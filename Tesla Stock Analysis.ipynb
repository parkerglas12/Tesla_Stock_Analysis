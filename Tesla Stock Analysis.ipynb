{
 "cells": [
  {
   "cell_type": "markdown",
   "id": "28b57145-ba95-4b56-8fd1-d913cdecd39f",
   "metadata": {},
   "source": [
    "<h1 align=\"center\">Tesla Stock Analysis</h1>"
   ]
  },
  {
   "cell_type": "markdown",
   "id": "ceeb6563-2013-4ccd-ac6b-6807571749da",
   "metadata": {},
   "source": [
    "<h2 align=\"center\">Parker Glas</h2>"
   ]
  },
  {
   "cell_type": "markdown",
   "id": "57b0112b-c272-41cf-ba93-da6460a578e3",
   "metadata": {},
   "source": [
    "### Dataset used is a secondary dataset from Kaggle.com -> \n",
    "https://www.kaggle.com/datasets/timoboz/tesla-stock-data-from-2010-to-2020"
   ]
  },
  {
   "cell_type": "markdown",
   "id": "2b10886b-9066-4122-95c2-9929a8c5e294",
   "metadata": {},
   "source": [
    "### Objective: \n",
    "Conduct an analysis of the historical price and volume trends of Tesla's stock data to gain deeper insights into its past performance."
   ]
  },
  {
   "cell_type": "code",
   "execution_count": 5,
   "id": "47520a6d-7505-429d-88dd-08579907d3dd",
   "metadata": {},
   "outputs": [],
   "source": [
    "import pandas as pd\n",
    "import numpy as np\n",
    "import matplotlib.pyplot as plt\n",
    "import seaborn as sns"
   ]
  },
  {
   "cell_type": "markdown",
   "id": "330d5a00-68c3-4825-ad5b-8ffafba5ab13",
   "metadata": {},
   "source": [
    "### Import Data"
   ]
  },
  {
   "cell_type": "code",
   "execution_count": 7,
   "id": "01095bb1-0cac-4596-8505-569594d7d1f6",
   "metadata": {},
   "outputs": [
    {
     "data": {
      "text/html": [
       "<div>\n",
       "<style scoped>\n",
       "    .dataframe tbody tr th:only-of-type {\n",
       "        vertical-align: middle;\n",
       "    }\n",
       "\n",
       "    .dataframe tbody tr th {\n",
       "        vertical-align: top;\n",
       "    }\n",
       "\n",
       "    .dataframe thead th {\n",
       "        text-align: right;\n",
       "    }\n",
       "</style>\n",
       "<table border=\"1\" class=\"dataframe\">\n",
       "  <thead>\n",
       "    <tr style=\"text-align: right;\">\n",
       "      <th></th>\n",
       "      <th>Date</th>\n",
       "      <th>Open</th>\n",
       "      <th>High</th>\n",
       "      <th>Low</th>\n",
       "      <th>Close</th>\n",
       "      <th>Volume</th>\n",
       "    </tr>\n",
       "  </thead>\n",
       "  <tbody>\n",
       "    <tr>\n",
       "      <th>0</th>\n",
       "      <td>6/29/2010</td>\n",
       "      <td>19.000000</td>\n",
       "      <td>25.00</td>\n",
       "      <td>17.540001</td>\n",
       "      <td>23.889999</td>\n",
       "      <td>18766300</td>\n",
       "    </tr>\n",
       "    <tr>\n",
       "      <th>1</th>\n",
       "      <td>6/30/2010</td>\n",
       "      <td>25.790001</td>\n",
       "      <td>30.42</td>\n",
       "      <td>23.299999</td>\n",
       "      <td>23.830000</td>\n",
       "      <td>17187100</td>\n",
       "    </tr>\n",
       "    <tr>\n",
       "      <th>2</th>\n",
       "      <td>7/1/2010</td>\n",
       "      <td>25.000000</td>\n",
       "      <td>25.92</td>\n",
       "      <td>20.270000</td>\n",
       "      <td>21.959999</td>\n",
       "      <td>8218800</td>\n",
       "    </tr>\n",
       "    <tr>\n",
       "      <th>3</th>\n",
       "      <td>7/2/2010</td>\n",
       "      <td>23.000000</td>\n",
       "      <td>23.10</td>\n",
       "      <td>18.709999</td>\n",
       "      <td>19.200001</td>\n",
       "      <td>5139800</td>\n",
       "    </tr>\n",
       "    <tr>\n",
       "      <th>4</th>\n",
       "      <td>7/6/2010</td>\n",
       "      <td>20.000000</td>\n",
       "      <td>20.00</td>\n",
       "      <td>15.830000</td>\n",
       "      <td>16.110001</td>\n",
       "      <td>6866900</td>\n",
       "    </tr>\n",
       "  </tbody>\n",
       "</table>\n",
       "</div>"
      ],
      "text/plain": [
       "        Date       Open   High        Low      Close    Volume\n",
       "0  6/29/2010  19.000000  25.00  17.540001  23.889999  18766300\n",
       "1  6/30/2010  25.790001  30.42  23.299999  23.830000  17187100\n",
       "2   7/1/2010  25.000000  25.92  20.270000  21.959999   8218800\n",
       "3   7/2/2010  23.000000  23.10  18.709999  19.200001   5139800\n",
       "4   7/6/2010  20.000000  20.00  15.830000  16.110001   6866900"
      ]
     },
     "execution_count": 7,
     "metadata": {},
     "output_type": "execute_result"
    }
   ],
   "source": [
    "data = pd.read_csv(\"TSLA-Data.csv\")\n",
    "df = data.copy()\n",
    "df.head()"
   ]
  },
  {
   "cell_type": "markdown",
   "id": "90f57219-1756-4367-bbb1-6312c2559dbc",
   "metadata": {},
   "source": [
    "### Check For NA Values"
   ]
  },
  {
   "cell_type": "code",
   "execution_count": 9,
   "id": "8514e02c-45ff-4102-931c-7189746a23cf",
   "metadata": {},
   "outputs": [
    {
     "data": {
      "text/plain": [
       "Date      0\n",
       "Open      0\n",
       "High      0\n",
       "Low       0\n",
       "Close     0\n",
       "Volume    0\n",
       "dtype: int64"
      ]
     },
     "execution_count": 9,
     "metadata": {},
     "output_type": "execute_result"
    }
   ],
   "source": [
    "df.isna().sum()"
   ]
  },
  {
   "cell_type": "markdown",
   "id": "6e2d6fdd-c5ee-42db-b694-85cf3c2fa2d5",
   "metadata": {},
   "source": [
    "Clean data"
   ]
  },
  {
   "cell_type": "markdown",
   "id": "7001e51b-fdab-45fc-a618-1d4b5951f78d",
   "metadata": {},
   "source": [
    "### Check Data Types"
   ]
  },
  {
   "cell_type": "code",
   "execution_count": 12,
   "id": "00014f67-c24e-463d-8d5c-8a5de7b2275a",
   "metadata": {},
   "outputs": [
    {
     "data": {
      "text/plain": [
       "Date       object\n",
       "Open      float64\n",
       "High      float64\n",
       "Low       float64\n",
       "Close     float64\n",
       "Volume      int64\n",
       "dtype: object"
      ]
     },
     "execution_count": 12,
     "metadata": {},
     "output_type": "execute_result"
    }
   ],
   "source": [
    "df.dtypes"
   ]
  },
  {
   "cell_type": "markdown",
   "id": "fe9c1b20-c879-479e-8f04-afd3f2a4a679",
   "metadata": {},
   "source": [
    "The only thing I want to do is convert the date column from strings to the far more usable Pandas datetime object. All other variables are of the correct type."
   ]
  },
  {
   "cell_type": "code",
   "execution_count": 14,
   "id": "6640df7d-f406-42d4-8a0b-daff3ff3f9e6",
   "metadata": {},
   "outputs": [
    {
     "data": {
      "text/plain": [
       "0      2010-06-29\n",
       "1      2010-06-30\n",
       "2      2010-07-01\n",
       "3      2010-07-02\n",
       "4      2010-07-06\n",
       "          ...    \n",
       "2411   2020-01-28\n",
       "2412   2020-01-29\n",
       "2413   2020-01-30\n",
       "2414   2020-01-31\n",
       "2415   2020-02-03\n",
       "Name: Date, Length: 2416, dtype: datetime64[ns]"
      ]
     },
     "execution_count": 14,
     "metadata": {},
     "output_type": "execute_result"
    }
   ],
   "source": [
    "df[\"Date\"] = pd.to_datetime(df[\"Date\"], format=\"%m/%d/%Y\")\n",
    "df[\"Date\"]"
   ]
  },
  {
   "cell_type": "code",
   "execution_count": 15,
   "id": "34ff01df-f0f2-4c58-8487-71d2c9e53e2b",
   "metadata": {},
   "outputs": [
    {
     "data": {
      "text/plain": [
       "Date      datetime64[ns]\n",
       "Open             float64\n",
       "High             float64\n",
       "Low              float64\n",
       "Close            float64\n",
       "Volume             int64\n",
       "dtype: object"
      ]
     },
     "execution_count": 15,
     "metadata": {},
     "output_type": "execute_result"
    }
   ],
   "source": [
    "df.dtypes"
   ]
  },
  {
   "cell_type": "markdown",
   "id": "32b955c9-5985-4642-97c6-9bc378bb627f",
   "metadata": {},
   "source": [
    "### Rate of Return"
   ]
  },
  {
   "cell_type": "code",
   "execution_count": 17,
   "id": "e620d571-0e25-4697-b34b-3812cf7344ed",
   "metadata": {},
   "outputs": [
    {
     "data": {
      "text/html": [
       "<div>\n",
       "<style scoped>\n",
       "    .dataframe tbody tr th:only-of-type {\n",
       "        vertical-align: middle;\n",
       "    }\n",
       "\n",
       "    .dataframe tbody tr th {\n",
       "        vertical-align: top;\n",
       "    }\n",
       "\n",
       "    .dataframe thead th {\n",
       "        text-align: right;\n",
       "    }\n",
       "</style>\n",
       "<table border=\"1\" class=\"dataframe\">\n",
       "  <thead>\n",
       "    <tr style=\"text-align: right;\">\n",
       "      <th></th>\n",
       "      <th>Close</th>\n",
       "    </tr>\n",
       "  </thead>\n",
       "  <tbody>\n",
       "    <tr>\n",
       "      <th>0</th>\n",
       "      <td>NaN</td>\n",
       "    </tr>\n",
       "    <tr>\n",
       "      <th>1</th>\n",
       "      <td>-0.002515</td>\n",
       "    </tr>\n",
       "    <tr>\n",
       "      <th>2</th>\n",
       "      <td>-0.081723</td>\n",
       "    </tr>\n",
       "    <tr>\n",
       "      <th>3</th>\n",
       "      <td>-0.134312</td>\n",
       "    </tr>\n",
       "    <tr>\n",
       "      <th>4</th>\n",
       "      <td>-0.175470</td>\n",
       "    </tr>\n",
       "  </tbody>\n",
       "</table>\n",
       "</div>"
      ],
      "text/plain": [
       "      Close\n",
       "0       NaN\n",
       "1 -0.002515\n",
       "2 -0.081723\n",
       "3 -0.134312\n",
       "4 -0.175470"
      ]
     },
     "execution_count": 17,
     "metadata": {},
     "output_type": "execute_result"
    }
   ],
   "source": [
    "tsla_return = pd.DataFrame(np.log(df[\"Close\"]).diff())\n",
    "tsla_return.head()"
   ]
  },
  {
   "cell_type": "markdown",
   "id": "04d09c71-9070-4620-8e22-4f48e588bde0",
   "metadata": {},
   "source": [
    "#### Line Plot Reusable Function"
   ]
  },
  {
   "cell_type": "code",
   "execution_count": 19,
   "id": "195ebd68-1807-47e9-94b8-8879859a6487",
   "metadata": {},
   "outputs": [],
   "source": [
    "def line_plot_func(x_values, y_values, title, y_label):\n",
    "    sns.set()\n",
    "    sns.set_style(\"white\")\n",
    "    plt.figure(figsize=(10, 6))\n",
    "    plt.plot(x_values, y_values, color=\"#ec1515\")\n",
    "    plt.xlabel(\"Date\", fontsize=14, weight=\"bold\", labelpad=15)\n",
    "    plt.xticks(rotation=45)\n",
    "    plt.ylabel(y_label, fontsize=14, weight=\"bold\", labelpad=15)\n",
    "    plt.title(title, fontsize=14, weight=\"bold\")\n",
    "    sns.despine()\n",
    "    plt.tight_layout(pad=1)\n",
    "    plt.show()"
   ]
  },
  {
   "cell_type": "code",
   "execution_count": 20,
   "id": "836a9fb2-3bb3-4966-94ac-8b07fbf25c72",
   "metadata": {},
   "outputs": [
    {
     "data": {
      "image/png": "[encoded data removed]",
      "text/plain": [
       "<Figure size 1000x600 with 1 Axes>"
      ]
     },
     "metadata": {},
     "output_type": "display_data"
    }
   ],
   "source": [
    "line_plot_func(tsla_return.index, tsla_return, \"TSLA Historical Rate of Return\", \"Return\")"
   ]
  },
  {
   "cell_type": "markdown",
   "id": "ac5108cd-9b5e-4fd9-a67e-d66486f3da77",
   "metadata": {},
   "source": [
    "Wide range of returns, espically in the start and the end of the timespan."
   ]
  },
  {
   "cell_type": "markdown",
   "id": "0fb587ce-2f21-45d8-8de0-2cefde0659ba",
   "metadata": {},
   "source": [
    "### Quick High-Level Overview"
   ]
  },
  {
   "cell_type": "code",
   "execution_count": 23,
   "id": "f61fdc14-30c5-42c9-96e0-a912ca6a8d2d",
   "metadata": {},
   "outputs": [
    {
     "data": {
      "text/html": [
       "<div>\n",
       "<style scoped>\n",
       "    .dataframe tbody tr th:only-of-type {\n",
       "        vertical-align: middle;\n",
       "    }\n",
       "\n",
       "    .dataframe tbody tr th {\n",
       "        vertical-align: top;\n",
       "    }\n",
       "\n",
       "    .dataframe thead th {\n",
       "        text-align: right;\n",
       "    }\n",
       "</style>\n",
       "<table border=\"1\" class=\"dataframe\">\n",
       "  <thead>\n",
       "    <tr style=\"text-align: right;\">\n",
       "      <th></th>\n",
       "      <th>Date</th>\n",
       "      <th>Open</th>\n",
       "      <th>High</th>\n",
       "      <th>Low</th>\n",
       "      <th>Close</th>\n",
       "      <th>Volume</th>\n",
       "    </tr>\n",
       "  </thead>\n",
       "  <tbody>\n",
       "    <tr>\n",
       "      <th>count</th>\n",
       "      <td>2416</td>\n",
       "      <td>2416.000000</td>\n",
       "      <td>2416.000000</td>\n",
       "      <td>2416.000000</td>\n",
       "      <td>2416.000000</td>\n",
       "      <td>2.416000e+03</td>\n",
       "    </tr>\n",
       "    <tr>\n",
       "      <th>mean</th>\n",
       "      <td>2015-04-15 11:09:56.026490112</td>\n",
       "      <td>186.271147</td>\n",
       "      <td>189.578224</td>\n",
       "      <td>182.916639</td>\n",
       "      <td>186.403651</td>\n",
       "      <td>5.572722e+06</td>\n",
       "    </tr>\n",
       "    <tr>\n",
       "      <th>min</th>\n",
       "      <td>2010-06-29 00:00:00</td>\n",
       "      <td>16.139999</td>\n",
       "      <td>16.629999</td>\n",
       "      <td>14.980000</td>\n",
       "      <td>15.800000</td>\n",
       "      <td>1.185000e+05</td>\n",
       "    </tr>\n",
       "    <tr>\n",
       "      <th>25%</th>\n",
       "      <td>2012-11-19 18:00:00</td>\n",
       "      <td>34.342498</td>\n",
       "      <td>34.897501</td>\n",
       "      <td>33.587501</td>\n",
       "      <td>34.400002</td>\n",
       "      <td>1.899275e+06</td>\n",
       "    </tr>\n",
       "    <tr>\n",
       "      <th>50%</th>\n",
       "      <td>2015-04-16 12:00:00</td>\n",
       "      <td>213.035004</td>\n",
       "      <td>216.745002</td>\n",
       "      <td>208.870002</td>\n",
       "      <td>212.960007</td>\n",
       "      <td>4.578400e+06</td>\n",
       "    </tr>\n",
       "    <tr>\n",
       "      <th>75%</th>\n",
       "      <td>2017-09-07 06:00:00</td>\n",
       "      <td>266.450012</td>\n",
       "      <td>270.927513</td>\n",
       "      <td>262.102501</td>\n",
       "      <td>266.774994</td>\n",
       "      <td>7.361150e+06</td>\n",
       "    </tr>\n",
       "    <tr>\n",
       "      <th>max</th>\n",
       "      <td>2020-02-03 00:00:00</td>\n",
       "      <td>673.690002</td>\n",
       "      <td>786.140015</td>\n",
       "      <td>673.520020</td>\n",
       "      <td>780.000000</td>\n",
       "      <td>4.706500e+07</td>\n",
       "    </tr>\n",
       "    <tr>\n",
       "      <th>std</th>\n",
       "      <td>NaN</td>\n",
       "      <td>118.740163</td>\n",
       "      <td>120.892329</td>\n",
       "      <td>116.857591</td>\n",
       "      <td>119.136020</td>\n",
       "      <td>4.987809e+06</td>\n",
       "    </tr>\n",
       "  </tbody>\n",
       "</table>\n",
       "</div>"
      ],
      "text/plain": [
       "                                Date         Open         High          Low  \\\n",
       "count                           2416  2416.000000  2416.000000  2416.000000   \n",
       "mean   2015-04-15 11:09:56.026490112   186.271147   189.578224   182.916639   \n",
       "min              2010-06-29 00:00:00    16.139999    16.629999    14.980000   \n",
       "25%              2012-11-19 18:00:00    34.342498    34.897501    33.587501   \n",
       "50%              2015-04-16 12:00:00   213.035004   216.745002   208.870002   \n",
       "75%              2017-09-07 06:00:00   266.450012   270.927513   262.102501   \n",
       "max              2020-02-03 00:00:00   673.690002   786.140015   673.520020   \n",
       "std                              NaN   118.740163   120.892329   116.857591   \n",
       "\n",
       "             Close        Volume  \n",
       "count  2416.000000  2.416000e+03  \n",
       "mean    186.403651  5.572722e+06  \n",
       "min      15.800000  1.185000e+05  \n",
       "25%      34.400002  1.899275e+06  \n",
       "50%     212.960007  4.578400e+06  \n",
       "75%     266.774994  7.361150e+06  \n",
       "max     780.000000  4.706500e+07  \n",
       "std     119.136020  4.987809e+06  "
      ]
     },
     "execution_count": 23,
     "metadata": {},
     "output_type": "execute_result"
    }
   ],
   "source": [
    "df.describe()"
   ]
  },
  {
   "cell_type": "markdown",
   "id": "f070db7d-5776-4548-9aa7-c4d6c00fc064",
   "metadata": {},
   "source": [
    "Data is from June 29th, 2010, to February 3rd, 2020."
   ]
  },
  {
   "cell_type": "code",
   "execution_count": 25,
   "id": "348d3bce-b2ab-461a-9877-d5e203cb206b",
   "metadata": {},
   "outputs": [
    {
     "data": {
      "text/plain": [
       "4005.263157894737"
      ]
     },
     "execution_count": 25,
     "metadata": {},
     "output_type": "execute_result"
    }
   ],
   "source": [
    "diff = df.loc[len(df) - 1, \"Close\"] - df.loc[0, \"Open\"]\n",
    "diff / df.loc[0, \"Open\"] * 100"
   ]
  },
  {
   "cell_type": "markdown",
   "id": "bde77a48-039e-4e49-94ba-998912403a76",
   "metadata": {},
   "source": [
    "Percentage return from start to end of timespan."
   ]
  },
  {
   "cell_type": "code",
   "execution_count": 27,
   "id": "8d0bcc5f-7429-49ed-994a-7dd0f6c41e32",
   "metadata": {},
   "outputs": [
    {
     "data": {
      "image/png": "[encoded data removed]",
      "text/plain": [
       "<Figure size 1000x600 with 1 Axes>"
      ]
     },
     "metadata": {},
     "output_type": "display_data"
    }
   ],
   "source": [
    "line_plot_func(df[\"Date\"], df[\"Close\"], \"TSLA Historical Price Graph\", \"TSLA Close Price ($)\")"
   ]
  },
  {
   "cell_type": "markdown",
   "id": "4516512c-9dd1-488a-a170-af64bf385ec7",
   "metadata": {},
   "source": [
    "This graph of the data's close prices already gives some interesting information. We see mostly consolidation from 2010 through 2012 and a significant impulsive move in 2013. The stock went through a nice uptrend until 2015, followed by a correction and a recovery to the previous high. 2016 saw a flash crash in the stock price followed by a \"V-shaped\" recovery and then higher highs into 2018. We see a couple of years of volatility followed by a downside move and then an exceptional upside move in the early stages of 2020. "
   ]
  },
  {
   "cell_type": "markdown",
   "id": "30db3884-6f69-451e-8891-a5618c5244f6",
   "metadata": {},
   "source": [
    "## Data Manipulation"
   ]
  },
  {
   "cell_type": "markdown",
   "id": "faf45060-7d01-4197-b3e7-e279b96e744d",
   "metadata": {},
   "source": [
    "### Adding Session Change Percentage Column."
   ]
  },
  {
   "cell_type": "code",
   "execution_count": 31,
   "id": "3cfa191c-bbca-4192-9a7e-accea372ea02",
   "metadata": {},
   "outputs": [],
   "source": [
    "df[\"Change %\"] = (df[\"Close\"] - df[\"Open\"]) / df[\"Open\"] * 100"
   ]
  },
  {
   "cell_type": "code",
   "execution_count": 32,
   "id": "91ee7313-845b-4143-81ff-464431fd39a0",
   "metadata": {},
   "outputs": [
    {
     "data": {
      "text/html": [
       "<div>\n",
       "<style scoped>\n",
       "    .dataframe tbody tr th:only-of-type {\n",
       "        vertical-align: middle;\n",
       "    }\n",
       "\n",
       "    .dataframe tbody tr th {\n",
       "        vertical-align: top;\n",
       "    }\n",
       "\n",
       "    .dataframe thead th {\n",
       "        text-align: right;\n",
       "    }\n",
       "</style>\n",
       "<table border=\"1\" class=\"dataframe\">\n",
       "  <thead>\n",
       "    <tr style=\"text-align: right;\">\n",
       "      <th></th>\n",
       "      <th>Date</th>\n",
       "      <th>Open</th>\n",
       "      <th>High</th>\n",
       "      <th>Low</th>\n",
       "      <th>Close</th>\n",
       "      <th>Volume</th>\n",
       "      <th>Change %</th>\n",
       "    </tr>\n",
       "  </thead>\n",
       "  <tbody>\n",
       "    <tr>\n",
       "      <th>0</th>\n",
       "      <td>2010-06-29</td>\n",
       "      <td>19.000000</td>\n",
       "      <td>25.00</td>\n",
       "      <td>17.540001</td>\n",
       "      <td>23.889999</td>\n",
       "      <td>18766300</td>\n",
       "      <td>25.736837</td>\n",
       "    </tr>\n",
       "    <tr>\n",
       "      <th>1</th>\n",
       "      <td>2010-06-30</td>\n",
       "      <td>25.790001</td>\n",
       "      <td>30.42</td>\n",
       "      <td>23.299999</td>\n",
       "      <td>23.830000</td>\n",
       "      <td>17187100</td>\n",
       "      <td>-7.599848</td>\n",
       "    </tr>\n",
       "    <tr>\n",
       "      <th>2</th>\n",
       "      <td>2010-07-01</td>\n",
       "      <td>25.000000</td>\n",
       "      <td>25.92</td>\n",
       "      <td>20.270000</td>\n",
       "      <td>21.959999</td>\n",
       "      <td>8218800</td>\n",
       "      <td>-12.160004</td>\n",
       "    </tr>\n",
       "    <tr>\n",
       "      <th>3</th>\n",
       "      <td>2010-07-02</td>\n",
       "      <td>23.000000</td>\n",
       "      <td>23.10</td>\n",
       "      <td>18.709999</td>\n",
       "      <td>19.200001</td>\n",
       "      <td>5139800</td>\n",
       "      <td>-16.521735</td>\n",
       "    </tr>\n",
       "    <tr>\n",
       "      <th>4</th>\n",
       "      <td>2010-07-06</td>\n",
       "      <td>20.000000</td>\n",
       "      <td>20.00</td>\n",
       "      <td>15.830000</td>\n",
       "      <td>16.110001</td>\n",
       "      <td>6866900</td>\n",
       "      <td>-19.449995</td>\n",
       "    </tr>\n",
       "  </tbody>\n",
       "</table>\n",
       "</div>"
      ],
      "text/plain": [
       "        Date       Open   High        Low      Close    Volume   Change %\n",
       "0 2010-06-29  19.000000  25.00  17.540001  23.889999  18766300  25.736837\n",
       "1 2010-06-30  25.790001  30.42  23.299999  23.830000  17187100  -7.599848\n",
       "2 2010-07-01  25.000000  25.92  20.270000  21.959999   8218800 -12.160004\n",
       "3 2010-07-02  23.000000  23.10  18.709999  19.200001   5139800 -16.521735\n",
       "4 2010-07-06  20.000000  20.00  15.830000  16.110001   6866900 -19.449995"
      ]
     },
     "execution_count": 32,
     "metadata": {},
     "output_type": "execute_result"
    }
   ],
   "source": [
    "df.head()"
   ]
  },
  {
   "cell_type": "markdown",
   "id": "f26e0126-6167-4856-a512-9647824df942",
   "metadata": {},
   "source": [
    "Change % is the percentage change for the open to close price for the stock on the given trading day."
   ]
  },
  {
   "cell_type": "markdown",
   "id": "a8c56e2f-7692-4961-8500-cef282d4ad93",
   "metadata": {},
   "source": [
    "### Adding Session Volatility Percentage Column"
   ]
  },
  {
   "cell_type": "code",
   "execution_count": 35,
   "id": "8595a83e-a9c2-4129-b4b1-e82df1578e4c",
   "metadata": {},
   "outputs": [],
   "source": [
    "df[\"Session Vol %\"] = (df[\"High\"] - df[\"Low\"]) / df[\"Low\"] * 100"
   ]
  },
  {
   "cell_type": "code",
   "execution_count": 36,
   "id": "57006565-8cda-4f52-ac4c-688c13dde5b2",
   "metadata": {},
   "outputs": [
    {
     "data": {
      "text/html": [
       "<div>\n",
       "<style scoped>\n",
       "    .dataframe tbody tr th:only-of-type {\n",
       "        vertical-align: middle;\n",
       "    }\n",
       "\n",
       "    .dataframe tbody tr th {\n",
       "        vertical-align: top;\n",
       "    }\n",
       "\n",
       "    .dataframe thead th {\n",
       "        text-align: right;\n",
       "    }\n",
       "</style>\n",
       "<table border=\"1\" class=\"dataframe\">\n",
       "  <thead>\n",
       "    <tr style=\"text-align: right;\">\n",
       "      <th></th>\n",
       "      <th>Date</th>\n",
       "      <th>Open</th>\n",
       "      <th>High</th>\n",
       "      <th>Low</th>\n",
       "      <th>Close</th>\n",
       "      <th>Volume</th>\n",
       "      <th>Change %</th>\n",
       "      <th>Session Vol %</th>\n",
       "    </tr>\n",
       "  </thead>\n",
       "  <tbody>\n",
       "    <tr>\n",
       "      <th>0</th>\n",
       "      <td>2010-06-29</td>\n",
       "      <td>19.000000</td>\n",
       "      <td>25.00</td>\n",
       "      <td>17.540001</td>\n",
       "      <td>23.889999</td>\n",
       "      <td>18766300</td>\n",
       "      <td>25.736837</td>\n",
       "      <td>42.531349</td>\n",
       "    </tr>\n",
       "    <tr>\n",
       "      <th>1</th>\n",
       "      <td>2010-06-30</td>\n",
       "      <td>25.790001</td>\n",
       "      <td>30.42</td>\n",
       "      <td>23.299999</td>\n",
       "      <td>23.830000</td>\n",
       "      <td>17187100</td>\n",
       "      <td>-7.599848</td>\n",
       "      <td>30.557946</td>\n",
       "    </tr>\n",
       "    <tr>\n",
       "      <th>2</th>\n",
       "      <td>2010-07-01</td>\n",
       "      <td>25.000000</td>\n",
       "      <td>25.92</td>\n",
       "      <td>20.270000</td>\n",
       "      <td>21.959999</td>\n",
       "      <td>8218800</td>\n",
       "      <td>-12.160004</td>\n",
       "      <td>27.873705</td>\n",
       "    </tr>\n",
       "    <tr>\n",
       "      <th>3</th>\n",
       "      <td>2010-07-02</td>\n",
       "      <td>23.000000</td>\n",
       "      <td>23.10</td>\n",
       "      <td>18.709999</td>\n",
       "      <td>19.200001</td>\n",
       "      <td>5139800</td>\n",
       "      <td>-16.521735</td>\n",
       "      <td>23.463395</td>\n",
       "    </tr>\n",
       "    <tr>\n",
       "      <th>4</th>\n",
       "      <td>2010-07-06</td>\n",
       "      <td>20.000000</td>\n",
       "      <td>20.00</td>\n",
       "      <td>15.830000</td>\n",
       "      <td>16.110001</td>\n",
       "      <td>6866900</td>\n",
       "      <td>-19.449995</td>\n",
       "      <td>26.342388</td>\n",
       "    </tr>\n",
       "  </tbody>\n",
       "</table>\n",
       "</div>"
      ],
      "text/plain": [
       "        Date       Open   High        Low      Close    Volume   Change %  \\\n",
       "0 2010-06-29  19.000000  25.00  17.540001  23.889999  18766300  25.736837   \n",
       "1 2010-06-30  25.790001  30.42  23.299999  23.830000  17187100  -7.599848   \n",
       "2 2010-07-01  25.000000  25.92  20.270000  21.959999   8218800 -12.160004   \n",
       "3 2010-07-02  23.000000  23.10  18.709999  19.200001   5139800 -16.521735   \n",
       "4 2010-07-06  20.000000  20.00  15.830000  16.110001   6866900 -19.449995   \n",
       "\n",
       "   Session Vol %  \n",
       "0      42.531349  \n",
       "1      30.557946  \n",
       "2      27.873705  \n",
       "3      23.463395  \n",
       "4      26.342388  "
      ]
     },
     "execution_count": 36,
     "metadata": {},
     "output_type": "execute_result"
    }
   ],
   "source": [
    "df.head()"
   ]
  },
  {
   "cell_type": "markdown",
   "id": "02a5a6a6-2ee0-4943-9588-c101b83a36a5",
   "metadata": {},
   "source": [
    "Session Vol % is the percentage change for the low to high price for the stock on the given trading day."
   ]
  },
  {
   "cell_type": "markdown",
   "id": "996fdf2c-c901-4cf3-bcaa-4fb547ec08b0",
   "metadata": {},
   "source": [
    "### Adding Year and Month Columns"
   ]
  },
  {
   "cell_type": "code",
   "execution_count": 39,
   "id": "ee796cda-fa76-4edd-b2a0-096dab5d723c",
   "metadata": {},
   "outputs": [],
   "source": [
    "df[\"Year\"] = df[\"Date\"].dt.year\n",
    "df[\"Month\"] = df[\"Date\"].dt.month"
   ]
  },
  {
   "cell_type": "code",
   "execution_count": 40,
   "id": "74153dd4-d044-4426-b2b4-0a37da9c258f",
   "metadata": {},
   "outputs": [
    {
     "data": {
      "text/html": [
       "<div>\n",
       "<style scoped>\n",
       "    .dataframe tbody tr th:only-of-type {\n",
       "        vertical-align: middle;\n",
       "    }\n",
       "\n",
       "    .dataframe tbody tr th {\n",
       "        vertical-align: top;\n",
       "    }\n",
       "\n",
       "    .dataframe thead th {\n",
       "        text-align: right;\n",
       "    }\n",
       "</style>\n",
       "<table border=\"1\" class=\"dataframe\">\n",
       "  <thead>\n",
       "    <tr style=\"text-align: right;\">\n",
       "      <th></th>\n",
       "      <th>Date</th>\n",
       "      <th>Open</th>\n",
       "      <th>High</th>\n",
       "      <th>Low</th>\n",
       "      <th>Close</th>\n",
       "      <th>Volume</th>\n",
       "      <th>Change %</th>\n",
       "      <th>Session Vol %</th>\n",
       "      <th>Year</th>\n",
       "      <th>Month</th>\n",
       "    </tr>\n",
       "  </thead>\n",
       "  <tbody>\n",
       "    <tr>\n",
       "      <th>0</th>\n",
       "      <td>2010-06-29</td>\n",
       "      <td>19.000000</td>\n",
       "      <td>25.00</td>\n",
       "      <td>17.540001</td>\n",
       "      <td>23.889999</td>\n",
       "      <td>18766300</td>\n",
       "      <td>25.736837</td>\n",
       "      <td>42.531349</td>\n",
       "      <td>2010</td>\n",
       "      <td>6</td>\n",
       "    </tr>\n",
       "    <tr>\n",
       "      <th>1</th>\n",
       "      <td>2010-06-30</td>\n",
       "      <td>25.790001</td>\n",
       "      <td>30.42</td>\n",
       "      <td>23.299999</td>\n",
       "      <td>23.830000</td>\n",
       "      <td>17187100</td>\n",
       "      <td>-7.599848</td>\n",
       "      <td>30.557946</td>\n",
       "      <td>2010</td>\n",
       "      <td>6</td>\n",
       "    </tr>\n",
       "    <tr>\n",
       "      <th>2</th>\n",
       "      <td>2010-07-01</td>\n",
       "      <td>25.000000</td>\n",
       "      <td>25.92</td>\n",
       "      <td>20.270000</td>\n",
       "      <td>21.959999</td>\n",
       "      <td>8218800</td>\n",
       "      <td>-12.160004</td>\n",
       "      <td>27.873705</td>\n",
       "      <td>2010</td>\n",
       "      <td>7</td>\n",
       "    </tr>\n",
       "    <tr>\n",
       "      <th>3</th>\n",
       "      <td>2010-07-02</td>\n",
       "      <td>23.000000</td>\n",
       "      <td>23.10</td>\n",
       "      <td>18.709999</td>\n",
       "      <td>19.200001</td>\n",
       "      <td>5139800</td>\n",
       "      <td>-16.521735</td>\n",
       "      <td>23.463395</td>\n",
       "      <td>2010</td>\n",
       "      <td>7</td>\n",
       "    </tr>\n",
       "    <tr>\n",
       "      <th>4</th>\n",
       "      <td>2010-07-06</td>\n",
       "      <td>20.000000</td>\n",
       "      <td>20.00</td>\n",
       "      <td>15.830000</td>\n",
       "      <td>16.110001</td>\n",
       "      <td>6866900</td>\n",
       "      <td>-19.449995</td>\n",
       "      <td>26.342388</td>\n",
       "      <td>2010</td>\n",
       "      <td>7</td>\n",
       "    </tr>\n",
       "  </tbody>\n",
       "</table>\n",
       "</div>"
      ],
      "text/plain": [
       "        Date       Open   High        Low      Close    Volume   Change %  \\\n",
       "0 2010-06-29  19.000000  25.00  17.540001  23.889999  18766300  25.736837   \n",
       "1 2010-06-30  25.790001  30.42  23.299999  23.830000  17187100  -7.599848   \n",
       "2 2010-07-01  25.000000  25.92  20.270000  21.959999   8218800 -12.160004   \n",
       "3 2010-07-02  23.000000  23.10  18.709999  19.200001   5139800 -16.521735   \n",
       "4 2010-07-06  20.000000  20.00  15.830000  16.110001   6866900 -19.449995   \n",
       "\n",
       "   Session Vol %  Year  Month  \n",
       "0      42.531349  2010      6  \n",
       "1      30.557946  2010      6  \n",
       "2      27.873705  2010      7  \n",
       "3      23.463395  2010      7  \n",
       "4      26.342388  2010      7  "
      ]
     },
     "execution_count": 40,
     "metadata": {},
     "output_type": "execute_result"
    }
   ],
   "source": [
    "df.head()"
   ]
  },
  {
   "cell_type": "markdown",
   "id": "404f60e8-32c1-4021-acab-098691331597",
   "metadata": {},
   "source": [
    "Doing this will help a lot with future analysis."
   ]
  },
  {
   "cell_type": "markdown",
   "id": "5a5cf632-607d-45dd-a1c8-99bac4e7e7be",
   "metadata": {},
   "source": [
    "## Exploratory Data Analysis"
   ]
  },
  {
   "cell_type": "markdown",
   "id": "0fc1d319-e428-4fec-9afc-6157624588df",
   "metadata": {},
   "source": [
    "### Change %"
   ]
  },
  {
   "cell_type": "code",
   "execution_count": 44,
   "id": "5044c0a4-283e-4845-a9f9-4a4feecee718",
   "metadata": {},
   "outputs": [
    {
     "data": {
      "text/plain": [
       "-19.753518"
      ]
     },
     "execution_count": 44,
     "metadata": {},
     "output_type": "execute_result"
    }
   ],
   "source": [
    "round(df[\"Change %\"].min(), 6)"
   ]
  },
  {
   "cell_type": "code",
   "execution_count": 45,
   "id": "1149b885-12f6-4cee-8ec7-dd0ef796bce6",
   "metadata": {},
   "outputs": [
    {
     "data": {
      "text/plain": [
       "25.736837"
      ]
     },
     "execution_count": 45,
     "metadata": {},
     "output_type": "execute_result"
    }
   ],
   "source": [
    "round(df[\"Change %\"].max(), 6)"
   ]
  },
  {
   "cell_type": "code",
   "execution_count": 46,
   "id": "d353cb89-4a27-43ee-b1a4-9f030f1835a7",
   "metadata": {},
   "outputs": [
    {
     "data": {
      "text/plain": [
       "1200"
      ]
     },
     "execution_count": 46,
     "metadata": {},
     "output_type": "execute_result"
    }
   ],
   "source": [
    "sum(df[\"Change %\"] > 0)"
   ]
  },
  {
   "cell_type": "code",
   "execution_count": 47,
   "id": "73e44422-5518-49c8-aa22-27b6e9944121",
   "metadata": {},
   "outputs": [
    {
     "data": {
      "text/plain": [
       "1210"
      ]
     },
     "execution_count": 47,
     "metadata": {},
     "output_type": "execute_result"
    }
   ],
   "source": [
    "sum(df[\"Change %\"] < 0)"
   ]
  },
  {
   "cell_type": "code",
   "execution_count": 48,
   "id": "26b33483-f562-476b-8bc4-8bf1c8ded82b",
   "metadata": {},
   "outputs": [
    {
     "data": {
      "text/plain": [
       "-1.910294"
      ]
     },
     "execution_count": 48,
     "metadata": {},
     "output_type": "execute_result"
    }
   ],
   "source": [
    "df[df[\"Change %\"] < 0][\"Change %\"].mean().round(6)"
   ]
  },
  {
   "cell_type": "code",
   "execution_count": 49,
   "id": "fb785d82-9435-4e5e-8212-e243489b8195",
   "metadata": {},
   "outputs": [
    {
     "data": {
      "text/plain": [
       "1.98829"
      ]
     },
     "execution_count": 49,
     "metadata": {},
     "output_type": "execute_result"
    }
   ],
   "source": [
    "df[df[\"Change %\"] > 0][\"Change %\"].mean().round(6)"
   ]
  },
  {
   "cell_type": "markdown",
   "id": "8e936ba5-7821-4dc1-bcf3-2a58ce23f7c3",
   "metadata": {},
   "source": [
    "There were more negative intrday session then there were positive. The positive days did see greater moves than their negative counterparts."
   ]
  },
  {
   "cell_type": "markdown",
   "id": "c989165c-0436-4c41-a7bc-64877b03ad6e",
   "metadata": {},
   "source": [
    "### Session Volatility %"
   ]
  },
  {
   "cell_type": "code",
   "execution_count": 52,
   "id": "2475a9de-49cd-4be3-a0ee-b5610495907a",
   "metadata": {},
   "outputs": [
    {
     "data": {
      "text/plain": [
       "0.911131"
      ]
     },
     "execution_count": 52,
     "metadata": {},
     "output_type": "execute_result"
    }
   ],
   "source": [
    "round(df[\"Session Vol %\"].min(), 6)"
   ]
  },
  {
   "cell_type": "code",
   "execution_count": 53,
   "id": "b8908816-6539-4cf1-9123-a6f7aa6b0e62",
   "metadata": {},
   "outputs": [
    {
     "data": {
      "text/plain": [
       "42.531349"
      ]
     },
     "execution_count": 53,
     "metadata": {},
     "output_type": "execute_result"
    }
   ],
   "source": [
    "round(df[\"Session Vol %\"].max(), 6)"
   ]
  },
  {
   "cell_type": "code",
   "execution_count": 54,
   "id": "950df9ca-dbfb-414e-876d-a5997647d759",
   "metadata": {},
   "outputs": [
    {
     "data": {
      "text/plain": [
       "4.009676"
      ]
     },
     "execution_count": 54,
     "metadata": {},
     "output_type": "execute_result"
    }
   ],
   "source": [
    "round(df[\"Session Vol %\"].mean(), 6)"
   ]
  },
  {
   "cell_type": "code",
   "execution_count": 55,
   "id": "3d8baadd-f1a8-4685-a942-25bd51e19416",
   "metadata": {},
   "outputs": [
    {
     "data": {
      "text/plain": [
       "3.946148"
      ]
     },
     "execution_count": 55,
     "metadata": {},
     "output_type": "execute_result"
    }
   ],
   "source": [
    "df[df[\"Change %\"] > 0][\"Session Vol %\"].mean().round(6)"
   ]
  },
  {
   "cell_type": "code",
   "execution_count": 56,
   "id": "fd2464d1-fee0-447f-bc7e-4f753a7c53e1",
   "metadata": {},
   "outputs": [
    {
     "data": {
      "text/plain": [
       "4.079213"
      ]
     },
     "execution_count": 56,
     "metadata": {},
     "output_type": "execute_result"
    }
   ],
   "source": [
    "df[df[\"Change %\"] < 0][\"Session Vol %\"].mean().round(6)"
   ]
  },
  {
   "cell_type": "markdown",
   "id": "86853516-469a-4432-82a5-841d16e8590f",
   "metadata": {},
   "source": [
    "Data shows a wide volatility range and that the stock tends to be more volatile during the session on down days."
   ]
  },
  {
   "cell_type": "code",
   "execution_count": 58,
   "id": "71e84306-69db-4f22-8870-1f9cebd5ba5b",
   "metadata": {},
   "outputs": [
    {
     "data": {
      "image/png": "[encoded data removed]",
      "text/plain": [
       "<Figure size 1000x600 with 1 Axes>"
      ]
     },
     "metadata": {},
     "output_type": "display_data"
    }
   ],
   "source": [
    "line_plot_func(df[\"Date\"], df[\"Session Vol %\"], \"TSLA Historical Session Volatility Chart\", \"Volatility %\")"
   ]
  },
  {
   "cell_type": "markdown",
   "id": "ff95b3fc-7b52-4f78-aa13-c37efcc28a96",
   "metadata": {},
   "source": [
    "Like most other risk assets, we see short periods of high volatility scattered across the timeframe. The start of the timescale is highly volatile, at around 40%, but the volatility quickly falls to around 20% for the highest peaks for the rest of the duration. "
   ]
  },
  {
   "cell_type": "code",
   "execution_count": 60,
   "id": "7c4e207a-d4b2-4a2d-be5e-92e7eed3b273",
   "metadata": {},
   "outputs": [
    {
     "data": {
      "image/png": "[encoded data removed]",
      "text/plain": [
       "<Figure size 1000x600 with 1 Axes>"
      ]
     },
     "metadata": {},
     "output_type": "display_data"
    }
   ],
   "source": [
    "line_plot_func(df[\"Date\"][:30], df[\"Session Vol %\"][:30], \"TSLA Historical Session Volatility Chart\", \"Volatility %\")"
   ]
  },
  {
   "cell_type": "markdown",
   "id": "958f62d8-3368-40ef-970d-7cfe1a53271b",
   "metadata": {},
   "source": [
    "Super high volatility at the very beginning doesn't last long."
   ]
  },
  {
   "cell_type": "markdown",
   "id": "1673570f-c35f-4905-9a8f-2ab61d2adc3b",
   "metadata": {},
   "source": [
    "### Date"
   ]
  },
  {
   "cell_type": "markdown",
   "id": "48f311f8-d7af-480c-be07-3a183419438e",
   "metadata": {},
   "source": [
    "#### Year"
   ]
  },
  {
   "cell_type": "code",
   "execution_count": 64,
   "id": "ce660e29-def7-4775-8144-e221b82dcf2e",
   "metadata": {},
   "outputs": [
    {
     "data": {
      "text/plain": [
       "Year\n",
       "2011    252\n",
       "2013    252\n",
       "2014    252\n",
       "2015    252\n",
       "2016    252\n",
       "2019    252\n",
       "2017    251\n",
       "2018    251\n",
       "2012    250\n",
       "2010    130\n",
       "2020     22\n",
       "Name: count, dtype: int64"
      ]
     },
     "execution_count": 64,
     "metadata": {},
     "output_type": "execute_result"
    }
   ],
   "source": [
    "df[\"Year\"].value_counts()"
   ]
  },
  {
   "cell_type": "code",
   "execution_count": 65,
   "id": "f0d80d8b-256d-475e-9ca8-12619f01296a",
   "metadata": {},
   "outputs": [
    {
     "data": {
      "text/plain": [
       "Year\n",
       "2010     23.341846\n",
       "2011     26.804762\n",
       "2012     31.168600\n",
       "2013    104.401230\n",
       "2014    223.329088\n",
       "2015    230.042898\n",
       "2016    209.767262\n",
       "2017    314.316295\n",
       "2018    317.309921\n",
       "2019    273.530198\n",
       "2020    540.083639\n",
       "Name: Close, dtype: float64"
      ]
     },
     "execution_count": 65,
     "metadata": {},
     "output_type": "execute_result"
    }
   ],
   "source": [
    "df.groupby(\"Year\")[\"Close\"].mean()"
   ]
  },
  {
   "cell_type": "code",
   "execution_count": 66,
   "id": "42375a2f-2636-4962-bc25-4261809a1715",
   "metadata": {},
   "outputs": [
    {
     "data": {
      "text/plain": [
       "Year\n",
       "2010     15.800000\n",
       "2011     21.830000\n",
       "2012     22.790001\n",
       "2013     32.910000\n",
       "2014    139.339996\n",
       "2015    185.000000\n",
       "2016    143.669998\n",
       "2017    216.990005\n",
       "2018    250.559998\n",
       "2019    178.970001\n",
       "2020    430.260010\n",
       "Name: Close, dtype: float64"
      ]
     },
     "execution_count": 66,
     "metadata": {},
     "output_type": "execute_result"
    }
   ],
   "source": [
    "yearly_lows = df.groupby(\"Year\")[\"Close\"].min()\n",
    "yearly_lows"
   ]
  },
  {
   "cell_type": "code",
   "execution_count": 67,
   "id": "c431c835-752e-4aac-a7d5-3ec79d7015c1",
   "metadata": {},
   "outputs": [
    {
     "data": {
      "text/plain": [
       "Year\n",
       "2010     35.470001\n",
       "2011     34.939999\n",
       "2012     38.009998\n",
       "2013    193.369995\n",
       "2014    286.040009\n",
       "2015    282.260010\n",
       "2016    265.420013\n",
       "2017    385.000000\n",
       "2018    379.570007\n",
       "2019    430.940002\n",
       "2020    780.000000\n",
       "Name: Close, dtype: float64"
      ]
     },
     "execution_count": 67,
     "metadata": {},
     "output_type": "execute_result"
    }
   ],
   "source": [
    "yearly_highs = df.groupby(\"Year\")[\"Close\"].max()\n",
    "yearly_highs"
   ]
  },
  {
   "cell_type": "markdown",
   "id": "86dcbf02-4e07-47e3-99a1-0dd6db596f50",
   "metadata": {},
   "source": [
    "#### Bar Chart Reusable Function"
   ]
  },
  {
   "cell_type": "code",
   "execution_count": 69,
   "id": "47e6af1d-a573-46f8-a7a3-dd992e74a399",
   "metadata": {},
   "outputs": [],
   "source": [
    "def bar_chart_func(x_values, y_values, x_label, y_label, title):\n",
    "    sns.set()\n",
    "    sns.set_style(\"white\")\n",
    "    plt.figure(figsize=(10, 6))\n",
    "    plt.bar(x_values, y_values, color=\"#ec1515\")\n",
    "    plt.xticks(x_values, rotation=45)\n",
    "    plt.xlabel(x_label, fontsize=14, weight=\"bold\", labelpad=15)\n",
    "    plt.ylabel(y_label, fontsize=14, weight=\"bold\", labelpad=10)\n",
    "    plt.title(title, fontsize=14, weight=\"bold\")\n",
    "    sns.despine()\n",
    "    plt.tight_layout(pad=1)\n",
    "    plt.show()"
   ]
  },
  {
   "cell_type": "code",
   "execution_count": 70,
   "id": "24a43538-dc67-4e4f-837b-1ab9aabbdd1e",
   "metadata": {},
   "outputs": [
    {
     "data": {
      "text/html": [
       "<div>\n",
       "<style scoped>\n",
       "    .dataframe tbody tr th:only-of-type {\n",
       "        vertical-align: middle;\n",
       "    }\n",
       "\n",
       "    .dataframe tbody tr th {\n",
       "        vertical-align: top;\n",
       "    }\n",
       "\n",
       "    .dataframe thead th {\n",
       "        text-align: right;\n",
       "    }\n",
       "</style>\n",
       "<table border=\"1\" class=\"dataframe\">\n",
       "  <thead>\n",
       "    <tr style=\"text-align: right;\">\n",
       "      <th></th>\n",
       "      <th>Low</th>\n",
       "      <th>High</th>\n",
       "      <th>Price Range</th>\n",
       "      <th>Vol %</th>\n",
       "    </tr>\n",
       "    <tr>\n",
       "      <th>Year</th>\n",
       "      <th></th>\n",
       "      <th></th>\n",
       "      <th></th>\n",
       "      <th></th>\n",
       "    </tr>\n",
       "  </thead>\n",
       "  <tbody>\n",
       "    <tr>\n",
       "      <th>2010</th>\n",
       "      <td>15.800000</td>\n",
       "      <td>35.470001</td>\n",
       "      <td>19.670001</td>\n",
       "      <td>124.493677</td>\n",
       "    </tr>\n",
       "    <tr>\n",
       "      <th>2011</th>\n",
       "      <td>21.830000</td>\n",
       "      <td>34.939999</td>\n",
       "      <td>13.109999</td>\n",
       "      <td>60.054966</td>\n",
       "    </tr>\n",
       "    <tr>\n",
       "      <th>2012</th>\n",
       "      <td>22.790001</td>\n",
       "      <td>38.009998</td>\n",
       "      <td>15.219997</td>\n",
       "      <td>66.783661</td>\n",
       "    </tr>\n",
       "    <tr>\n",
       "      <th>2013</th>\n",
       "      <td>32.910000</td>\n",
       "      <td>193.369995</td>\n",
       "      <td>160.459995</td>\n",
       "      <td>487.572151</td>\n",
       "    </tr>\n",
       "    <tr>\n",
       "      <th>2014</th>\n",
       "      <td>139.339996</td>\n",
       "      <td>286.040009</td>\n",
       "      <td>146.700013</td>\n",
       "      <td>105.282056</td>\n",
       "    </tr>\n",
       "    <tr>\n",
       "      <th>2015</th>\n",
       "      <td>185.000000</td>\n",
       "      <td>282.260010</td>\n",
       "      <td>97.260010</td>\n",
       "      <td>52.572978</td>\n",
       "    </tr>\n",
       "    <tr>\n",
       "      <th>2016</th>\n",
       "      <td>143.669998</td>\n",
       "      <td>265.420013</td>\n",
       "      <td>121.750015</td>\n",
       "      <td>84.742825</td>\n",
       "    </tr>\n",
       "    <tr>\n",
       "      <th>2017</th>\n",
       "      <td>216.990005</td>\n",
       "      <td>385.000000</td>\n",
       "      <td>168.009995</td>\n",
       "      <td>77.427527</td>\n",
       "    </tr>\n",
       "    <tr>\n",
       "      <th>2018</th>\n",
       "      <td>250.559998</td>\n",
       "      <td>379.570007</td>\n",
       "      <td>129.010009</td>\n",
       "      <td>51.488669</td>\n",
       "    </tr>\n",
       "    <tr>\n",
       "      <th>2019</th>\n",
       "      <td>178.970001</td>\n",
       "      <td>430.940002</td>\n",
       "      <td>251.970001</td>\n",
       "      <td>140.788959</td>\n",
       "    </tr>\n",
       "    <tr>\n",
       "      <th>2020</th>\n",
       "      <td>430.260010</td>\n",
       "      <td>780.000000</td>\n",
       "      <td>349.739990</td>\n",
       "      <td>81.285730</td>\n",
       "    </tr>\n",
       "  </tbody>\n",
       "</table>\n",
       "</div>"
      ],
      "text/plain": [
       "             Low        High  Price Range       Vol %\n",
       "Year                                                 \n",
       "2010   15.800000   35.470001    19.670001  124.493677\n",
       "2011   21.830000   34.939999    13.109999   60.054966\n",
       "2012   22.790001   38.009998    15.219997   66.783661\n",
       "2013   32.910000  193.369995   160.459995  487.572151\n",
       "2014  139.339996  286.040009   146.700013  105.282056\n",
       "2015  185.000000  282.260010    97.260010   52.572978\n",
       "2016  143.669998  265.420013   121.750015   84.742825\n",
       "2017  216.990005  385.000000   168.009995   77.427527\n",
       "2018  250.559998  379.570007   129.010009   51.488669\n",
       "2019  178.970001  430.940002   251.970001  140.788959\n",
       "2020  430.260010  780.000000   349.739990   81.285730"
      ]
     },
     "execution_count": 70,
     "metadata": {},
     "output_type": "execute_result"
    }
   ],
   "source": [
    "yearly_stock_data = {\n",
    "    \"Low\": yearly_lows,\n",
    "    \"High\": yearly_highs,\n",
    "    \"Price Range\": yearly_highs - yearly_lows,\n",
    "    \"Vol %\": (yearly_highs - yearly_lows) / yearly_lows * 100\n",
    "}\n",
    "yearly_df = pd.DataFrame(yearly_stock_data)\n",
    "yearly_df"
   ]
  },
  {
   "cell_type": "code",
   "execution_count": 71,
   "id": "3df357c3-0613-468a-851f-fba4da3a1d2c",
   "metadata": {},
   "outputs": [
    {
     "data": {
      "image/png": "[encoded data removed]",
      "text/plain": [
       "<Figure size 1000x600 with 1 Axes>"
      ]
     },
     "metadata": {},
     "output_type": "display_data"
    }
   ],
   "source": [
    "bar_chart_func(yearly_df.index, yearly_df[\"Vol %\"], \"Year\", \"Yearly Price Volatility %\", \"TSLA Historical Yearly Price Volatility\")"
   ]
  },
  {
   "cell_type": "markdown",
   "id": "4e78d28b-7f57-4f20-a5d8-7bb9a4ae9316",
   "metadata": {},
   "source": [
    "2013 saw a major volatility and a positive price surge for the stock."
   ]
  },
  {
   "cell_type": "markdown",
   "id": "9f070544-a3e0-4b43-9835-816c66bad014",
   "metadata": {},
   "source": [
    "#### Month"
   ]
  },
  {
   "cell_type": "code",
   "execution_count": 74,
   "id": "6a8b42c3-c58f-4074-9f2a-989e03a93da1",
   "metadata": {},
   "outputs": [
    {
     "data": {
      "text/html": [
       "<div>\n",
       "<style scoped>\n",
       "    .dataframe tbody tr th:only-of-type {\n",
       "        vertical-align: middle;\n",
       "    }\n",
       "\n",
       "    .dataframe tbody tr th {\n",
       "        vertical-align: top;\n",
       "    }\n",
       "\n",
       "    .dataframe thead th {\n",
       "        text-align: right;\n",
       "    }\n",
       "</style>\n",
       "<table border=\"1\" class=\"dataframe\">\n",
       "  <thead>\n",
       "    <tr style=\"text-align: right;\">\n",
       "      <th></th>\n",
       "      <th>Month</th>\n",
       "      <th>Avg Volume</th>\n",
       "    </tr>\n",
       "    <tr>\n",
       "      <th>Month</th>\n",
       "      <th></th>\n",
       "      <th></th>\n",
       "    </tr>\n",
       "  </thead>\n",
       "  <tbody>\n",
       "    <tr>\n",
       "      <th>1</th>\n",
       "      <td>January</td>\n",
       "      <td>6.096573e+06</td>\n",
       "    </tr>\n",
       "    <tr>\n",
       "      <th>2</th>\n",
       "      <td>February</td>\n",
       "      <td>5.560205e+06</td>\n",
       "    </tr>\n",
       "    <tr>\n",
       "      <th>3</th>\n",
       "      <td>March</td>\n",
       "      <td>4.897830e+06</td>\n",
       "    </tr>\n",
       "    <tr>\n",
       "      <th>4</th>\n",
       "      <td>April</td>\n",
       "      <td>5.762770e+06</td>\n",
       "    </tr>\n",
       "    <tr>\n",
       "      <th>5</th>\n",
       "      <td>May</td>\n",
       "      <td>6.783542e+06</td>\n",
       "    </tr>\n",
       "    <tr>\n",
       "      <th>6</th>\n",
       "      <td>June</td>\n",
       "      <td>6.247495e+06</td>\n",
       "    </tr>\n",
       "    <tr>\n",
       "      <th>7</th>\n",
       "      <td>July</td>\n",
       "      <td>5.512618e+06</td>\n",
       "    </tr>\n",
       "    <tr>\n",
       "      <th>8</th>\n",
       "      <td>August</td>\n",
       "      <td>5.230768e+06</td>\n",
       "    </tr>\n",
       "    <tr>\n",
       "      <th>9</th>\n",
       "      <td>September</td>\n",
       "      <td>4.767019e+06</td>\n",
       "    </tr>\n",
       "    <tr>\n",
       "      <th>10</th>\n",
       "      <td>October</td>\n",
       "      <td>5.848470e+06</td>\n",
       "    </tr>\n",
       "    <tr>\n",
       "      <th>11</th>\n",
       "      <td>November</td>\n",
       "      <td>5.419562e+06</td>\n",
       "    </tr>\n",
       "    <tr>\n",
       "      <th>12</th>\n",
       "      <td>December</td>\n",
       "      <td>4.859209e+06</td>\n",
       "    </tr>\n",
       "  </tbody>\n",
       "</table>\n",
       "</div>"
      ],
      "text/plain": [
       "           Month    Avg Volume\n",
       "Month                         \n",
       "1        January  6.096573e+06\n",
       "2       February  5.560205e+06\n",
       "3          March  4.897830e+06\n",
       "4          April  5.762770e+06\n",
       "5            May  6.783542e+06\n",
       "6           June  6.247495e+06\n",
       "7           July  5.512618e+06\n",
       "8         August  5.230768e+06\n",
       "9      September  4.767019e+06\n",
       "10       October  5.848470e+06\n",
       "11      November  5.419562e+06\n",
       "12      December  4.859209e+06"
      ]
     },
     "execution_count": 74,
     "metadata": {},
     "output_type": "execute_result"
    }
   ],
   "source": [
    "months = [\"January\", \"February\", \"March\", \"April\", \"May\", \"June\", \"July\", \"August\", \"September\", \"October\", \"November\", \"December\"]\n",
    "monthly_stock_data = {\n",
    "    \"Month\": months,\n",
    "    \"Avg Volume\": df.groupby(\"Month\")[\"Volume\"].mean()\n",
    "}\n",
    "monthly_df = pd.DataFrame(monthly_stock_data)\n",
    "monthly_df"
   ]
  },
  {
   "cell_type": "code",
   "execution_count": 75,
   "id": "e468ed69-50eb-4696-a34c-3bb641d36a87",
   "metadata": {},
   "outputs": [
    {
     "data": {
      "image/png": "[encoded data removed]",
      "text/plain": [
       "<Figure size 1000x600 with 1 Axes>"
      ]
     },
     "metadata": {},
     "output_type": "display_data"
    }
   ],
   "source": [
    "bar_chart_func(monthly_df[\"Month\"], monthly_df[\"Avg Volume\"], \"Month\", \"Average Volume\", \"TSLA Historical Monthly Average Volume\")"
   ]
  },
  {
   "cell_type": "markdown",
   "id": "bccbac45-9513-459e-972d-a7e5877cfdfd",
   "metadata": {},
   "source": [
    "The distribution isn't uniform as some months typically see more trading volume than others."
   ]
  },
  {
   "cell_type": "markdown",
   "id": "8ffb1fc1-7fb4-43ee-bb0a-c42f693c8ef5",
   "metadata": {},
   "source": [
    "### Monthly Performance For Each Year"
   ]
  },
  {
   "cell_type": "code",
   "execution_count": 78,
   "id": "e0ad25a5-37c2-4d6b-8a5f-22990c3e9617",
   "metadata": {},
   "outputs": [
    {
     "data": {
      "text/plain": [
       "Year  Month\n",
       "2010  6       2010-06-29\n",
       "      7       2010-07-01\n",
       "      8       2010-08-02\n",
       "      9       2010-09-01\n",
       "      10      2010-10-01\n",
       "                 ...    \n",
       "2019  10      2019-10-01\n",
       "      11      2019-11-01\n",
       "      12      2019-12-02\n",
       "2020  1       2020-01-02\n",
       "      2       2020-02-03\n",
       "Name: Date, Length: 117, dtype: datetime64[ns]"
      ]
     },
     "execution_count": 78,
     "metadata": {},
     "output_type": "execute_result"
    }
   ],
   "source": [
    "starting_month_dates = df.groupby([\"Year\", \"Month\"])[\"Date\"].min()\n",
    "starting_month_dates"
   ]
  },
  {
   "cell_type": "code",
   "execution_count": 79,
   "id": "a6790d6f-d242-40e0-83e0-acd04e28759a",
   "metadata": {},
   "outputs": [
    {
     "data": {
      "text/plain": [
       "Year  Month\n",
       "2010  6       2010-06-30\n",
       "      7       2010-07-30\n",
       "      8       2010-08-31\n",
       "      9       2010-09-30\n",
       "      10      2010-10-29\n",
       "                 ...    \n",
       "2019  10      2019-10-31\n",
       "      11      2019-11-29\n",
       "      12      2019-12-31\n",
       "2020  1       2020-01-31\n",
       "      2       2020-02-03\n",
       "Name: Date, Length: 117, dtype: datetime64[ns]"
      ]
     },
     "execution_count": 79,
     "metadata": {},
     "output_type": "execute_result"
    }
   ],
   "source": [
    "ending_month_dates = df.groupby([\"Year\", \"Month\"])[\"Date\"].max()\n",
    "ending_month_dates"
   ]
  },
  {
   "cell_type": "code",
   "execution_count": 80,
   "id": "9f9f8fa9-6d3e-4c20-adc5-76ac6cedfaf7",
   "metadata": {},
   "outputs": [
    {
     "data": {
      "text/plain": [
       "117"
      ]
     },
     "execution_count": 80,
     "metadata": {},
     "output_type": "execute_result"
    }
   ],
   "source": [
    "len(starting_month_dates)"
   ]
  },
  {
   "cell_type": "code",
   "execution_count": 81,
   "id": "45965272-463c-4636-b0c8-f01470074036",
   "metadata": {},
   "outputs": [
    {
     "data": {
      "text/plain": [
       "117"
      ]
     },
     "execution_count": 81,
     "metadata": {},
     "output_type": "execute_result"
    }
   ],
   "source": [
    "len(ending_month_dates)"
   ]
  },
  {
   "cell_type": "code",
   "execution_count": 82,
   "id": "4ab08d25-db53-4e28-8c51-7beee898351b",
   "metadata": {},
   "outputs": [
    {
     "data": {
      "text/html": [
       "<div>\n",
       "<style scoped>\n",
       "    .dataframe tbody tr th:only-of-type {\n",
       "        vertical-align: middle;\n",
       "    }\n",
       "\n",
       "    .dataframe tbody tr th {\n",
       "        vertical-align: top;\n",
       "    }\n",
       "\n",
       "    .dataframe thead th {\n",
       "        text-align: right;\n",
       "    }\n",
       "</style>\n",
       "<table border=\"1\" class=\"dataframe\">\n",
       "  <thead>\n",
       "    <tr style=\"text-align: right;\">\n",
       "      <th></th>\n",
       "      <th></th>\n",
       "      <th>Open</th>\n",
       "    </tr>\n",
       "    <tr>\n",
       "      <th>Year</th>\n",
       "      <th>Month</th>\n",
       "      <th></th>\n",
       "    </tr>\n",
       "  </thead>\n",
       "  <tbody>\n",
       "    <tr>\n",
       "      <th rowspan=\"5\" valign=\"top\">2010</th>\n",
       "      <th>6</th>\n",
       "      <td>19.000000</td>\n",
       "    </tr>\n",
       "    <tr>\n",
       "      <th>7</th>\n",
       "      <td>25.000000</td>\n",
       "    </tr>\n",
       "    <tr>\n",
       "      <th>8</th>\n",
       "      <td>20.500000</td>\n",
       "    </tr>\n",
       "    <tr>\n",
       "      <th>9</th>\n",
       "      <td>19.620001</td>\n",
       "    </tr>\n",
       "    <tr>\n",
       "      <th>10</th>\n",
       "      <td>20.690001</td>\n",
       "    </tr>\n",
       "    <tr>\n",
       "      <th>...</th>\n",
       "      <th>...</th>\n",
       "      <td>...</td>\n",
       "    </tr>\n",
       "    <tr>\n",
       "      <th rowspan=\"3\" valign=\"top\">2019</th>\n",
       "      <th>10</th>\n",
       "      <td>241.500000</td>\n",
       "    </tr>\n",
       "    <tr>\n",
       "      <th>11</th>\n",
       "      <td>316.320007</td>\n",
       "    </tr>\n",
       "    <tr>\n",
       "      <th>12</th>\n",
       "      <td>329.399994</td>\n",
       "    </tr>\n",
       "    <tr>\n",
       "      <th rowspan=\"2\" valign=\"top\">2020</th>\n",
       "      <th>1</th>\n",
       "      <td>424.500000</td>\n",
       "    </tr>\n",
       "    <tr>\n",
       "      <th>2</th>\n",
       "      <td>673.690002</td>\n",
       "    </tr>\n",
       "  </tbody>\n",
       "</table>\n",
       "<p>117 rows × 1 columns</p>\n",
       "</div>"
      ],
      "text/plain": [
       "                  Open\n",
       "Year Month            \n",
       "2010 6       19.000000\n",
       "     7       25.000000\n",
       "     8       20.500000\n",
       "     9       19.620001\n",
       "     10      20.690001\n",
       "...                ...\n",
       "2019 10     241.500000\n",
       "     11     316.320007\n",
       "     12     329.399994\n",
       "2020 1      424.500000\n",
       "     2      673.690002\n",
       "\n",
       "[117 rows x 1 columns]"
      ]
     },
     "execution_count": 82,
     "metadata": {},
     "output_type": "execute_result"
    }
   ],
   "source": [
    "start_opening_prices = df[df[\"Date\"].isin(starting_month_dates)].set_index([\"Year\", \"Month\"])[[\"Open\"]]\n",
    "start_opening_prices"
   ]
  },
  {
   "cell_type": "code",
   "execution_count": 83,
   "id": "68225384-ea57-4e61-a3da-2d6d48829165",
   "metadata": {},
   "outputs": [
    {
     "data": {
      "text/html": [
       "<div>\n",
       "<style scoped>\n",
       "    .dataframe tbody tr th:only-of-type {\n",
       "        vertical-align: middle;\n",
       "    }\n",
       "\n",
       "    .dataframe tbody tr th {\n",
       "        vertical-align: top;\n",
       "    }\n",
       "\n",
       "    .dataframe thead th {\n",
       "        text-align: right;\n",
       "    }\n",
       "</style>\n",
       "<table border=\"1\" class=\"dataframe\">\n",
       "  <thead>\n",
       "    <tr style=\"text-align: right;\">\n",
       "      <th></th>\n",
       "      <th></th>\n",
       "      <th>Close</th>\n",
       "    </tr>\n",
       "    <tr>\n",
       "      <th>Year</th>\n",
       "      <th>Month</th>\n",
       "      <th></th>\n",
       "    </tr>\n",
       "  </thead>\n",
       "  <tbody>\n",
       "    <tr>\n",
       "      <th rowspan=\"5\" valign=\"top\">2010</th>\n",
       "      <th>6</th>\n",
       "      <td>23.830000</td>\n",
       "    </tr>\n",
       "    <tr>\n",
       "      <th>7</th>\n",
       "      <td>19.940001</td>\n",
       "    </tr>\n",
       "    <tr>\n",
       "      <th>8</th>\n",
       "      <td>19.480000</td>\n",
       "    </tr>\n",
       "    <tr>\n",
       "      <th>9</th>\n",
       "      <td>20.410000</td>\n",
       "    </tr>\n",
       "    <tr>\n",
       "      <th>10</th>\n",
       "      <td>21.840000</td>\n",
       "    </tr>\n",
       "    <tr>\n",
       "      <th>...</th>\n",
       "      <th>...</th>\n",
       "      <td>...</td>\n",
       "    </tr>\n",
       "    <tr>\n",
       "      <th rowspan=\"3\" valign=\"top\">2019</th>\n",
       "      <th>10</th>\n",
       "      <td>314.920013</td>\n",
       "    </tr>\n",
       "    <tr>\n",
       "      <th>11</th>\n",
       "      <td>329.940002</td>\n",
       "    </tr>\n",
       "    <tr>\n",
       "      <th>12</th>\n",
       "      <td>418.329987</td>\n",
       "    </tr>\n",
       "    <tr>\n",
       "      <th rowspan=\"2\" valign=\"top\">2020</th>\n",
       "      <th>1</th>\n",
       "      <td>650.570007</td>\n",
       "    </tr>\n",
       "    <tr>\n",
       "      <th>2</th>\n",
       "      <td>780.000000</td>\n",
       "    </tr>\n",
       "  </tbody>\n",
       "</table>\n",
       "<p>117 rows × 1 columns</p>\n",
       "</div>"
      ],
      "text/plain": [
       "                 Close\n",
       "Year Month            \n",
       "2010 6       23.830000\n",
       "     7       19.940001\n",
       "     8       19.480000\n",
       "     9       20.410000\n",
       "     10      21.840000\n",
       "...                ...\n",
       "2019 10     314.920013\n",
       "     11     329.940002\n",
       "     12     418.329987\n",
       "2020 1      650.570007\n",
       "     2      780.000000\n",
       "\n",
       "[117 rows x 1 columns]"
      ]
     },
     "execution_count": 83,
     "metadata": {},
     "output_type": "execute_result"
    }
   ],
   "source": [
    "end_closing_prices = df[df[\"Date\"].isin(ending_month_dates)].set_index([\"Year\", \"Month\"])[[\"Close\"]]\n",
    "end_closing_prices"
   ]
  },
  {
   "cell_type": "code",
   "execution_count": 199,
   "id": "746d0874-4d4e-428b-b4cc-bc0f4fbba17f",
   "metadata": {},
   "outputs": [
    {
     "data": {
      "text/html": [
       "<div>\n",
       "<style scoped>\n",
       "    .dataframe tbody tr th:only-of-type {\n",
       "        vertical-align: middle;\n",
       "    }\n",
       "\n",
       "    .dataframe tbody tr th {\n",
       "        vertical-align: top;\n",
       "    }\n",
       "\n",
       "    .dataframe thead th {\n",
       "        text-align: right;\n",
       "    }\n",
       "</style>\n",
       "<table border=\"1\" class=\"dataframe\">\n",
       "  <thead>\n",
       "    <tr style=\"text-align: right;\">\n",
       "      <th></th>\n",
       "      <th></th>\n",
       "      <th>Open</th>\n",
       "      <th>Close</th>\n",
       "    </tr>\n",
       "    <tr>\n",
       "      <th>Year</th>\n",
       "      <th>Month</th>\n",
       "      <th></th>\n",
       "      <th></th>\n",
       "    </tr>\n",
       "  </thead>\n",
       "  <tbody>\n",
       "    <tr>\n",
       "      <th rowspan=\"5\" valign=\"top\">2010</th>\n",
       "      <th>6</th>\n",
       "      <td>19.000000</td>\n",
       "      <td>23.830000</td>\n",
       "    </tr>\n",
       "    <tr>\n",
       "      <th>7</th>\n",
       "      <td>25.000000</td>\n",
       "      <td>19.940001</td>\n",
       "    </tr>\n",
       "    <tr>\n",
       "      <th>8</th>\n",
       "      <td>20.500000</td>\n",
       "      <td>19.480000</td>\n",
       "    </tr>\n",
       "    <tr>\n",
       "      <th>9</th>\n",
       "      <td>19.620001</td>\n",
       "      <td>20.410000</td>\n",
       "    </tr>\n",
       "    <tr>\n",
       "      <th>10</th>\n",
       "      <td>20.690001</td>\n",
       "      <td>21.840000</td>\n",
       "    </tr>\n",
       "    <tr>\n",
       "      <th>...</th>\n",
       "      <th>...</th>\n",
       "      <td>...</td>\n",
       "      <td>...</td>\n",
       "    </tr>\n",
       "    <tr>\n",
       "      <th rowspan=\"3\" valign=\"top\">2019</th>\n",
       "      <th>10</th>\n",
       "      <td>241.500000</td>\n",
       "      <td>314.920013</td>\n",
       "    </tr>\n",
       "    <tr>\n",
       "      <th>11</th>\n",
       "      <td>316.320007</td>\n",
       "      <td>329.940002</td>\n",
       "    </tr>\n",
       "    <tr>\n",
       "      <th>12</th>\n",
       "      <td>329.399994</td>\n",
       "      <td>418.329987</td>\n",
       "    </tr>\n",
       "    <tr>\n",
       "      <th rowspan=\"2\" valign=\"top\">2020</th>\n",
       "      <th>1</th>\n",
       "      <td>424.500000</td>\n",
       "      <td>650.570007</td>\n",
       "    </tr>\n",
       "    <tr>\n",
       "      <th>2</th>\n",
       "      <td>673.690002</td>\n",
       "      <td>780.000000</td>\n",
       "    </tr>\n",
       "  </tbody>\n",
       "</table>\n",
       "<p>117 rows × 2 columns</p>\n",
       "</div>"
      ],
      "text/plain": [
       "                  Open       Close\n",
       "Year Month                        \n",
       "2010 6       19.000000   23.830000\n",
       "     7       25.000000   19.940001\n",
       "     8       20.500000   19.480000\n",
       "     9       19.620001   20.410000\n",
       "     10      20.690001   21.840000\n",
       "...                ...         ...\n",
       "2019 10     241.500000  314.920013\n",
       "     11     316.320007  329.940002\n",
       "     12     329.399994  418.329987\n",
       "2020 1      424.500000  650.570007\n",
       "     2      673.690002  780.000000\n",
       "\n",
       "[117 rows x 2 columns]"
      ]
     },
     "execution_count": 199,
     "metadata": {},
     "output_type": "execute_result"
    }
   ],
   "source": [
    "monthly_closing_diff = start_opening_prices.join(end_closing_prices)\n",
    "monthly_closing_diff"
   ]
  },
  {
   "cell_type": "code",
   "execution_count": 85,
   "id": "e4134ed9-4326-4de0-a812-d03461d7410e",
   "metadata": {},
   "outputs": [
    {
     "data": {
      "text/html": [
       "<div>\n",
       "<style scoped>\n",
       "    .dataframe tbody tr th:only-of-type {\n",
       "        vertical-align: middle;\n",
       "    }\n",
       "\n",
       "    .dataframe tbody tr th {\n",
       "        vertical-align: top;\n",
       "    }\n",
       "\n",
       "    .dataframe thead th {\n",
       "        text-align: right;\n",
       "    }\n",
       "</style>\n",
       "<table border=\"1\" class=\"dataframe\">\n",
       "  <thead>\n",
       "    <tr style=\"text-align: right;\">\n",
       "      <th></th>\n",
       "      <th></th>\n",
       "      <th>Open</th>\n",
       "      <th>Close</th>\n",
       "      <th>Difference</th>\n",
       "    </tr>\n",
       "    <tr>\n",
       "      <th>Year</th>\n",
       "      <th>Month</th>\n",
       "      <th></th>\n",
       "      <th></th>\n",
       "      <th></th>\n",
       "    </tr>\n",
       "  </thead>\n",
       "  <tbody>\n",
       "    <tr>\n",
       "      <th rowspan=\"5\" valign=\"top\">2010</th>\n",
       "      <th>6</th>\n",
       "      <td>19.000000</td>\n",
       "      <td>23.830000</td>\n",
       "      <td>4.830000</td>\n",
       "    </tr>\n",
       "    <tr>\n",
       "      <th>7</th>\n",
       "      <td>25.000000</td>\n",
       "      <td>19.940001</td>\n",
       "      <td>-5.059999</td>\n",
       "    </tr>\n",
       "    <tr>\n",
       "      <th>8</th>\n",
       "      <td>20.500000</td>\n",
       "      <td>19.480000</td>\n",
       "      <td>-1.020000</td>\n",
       "    </tr>\n",
       "    <tr>\n",
       "      <th>9</th>\n",
       "      <td>19.620001</td>\n",
       "      <td>20.410000</td>\n",
       "      <td>0.789999</td>\n",
       "    </tr>\n",
       "    <tr>\n",
       "      <th>10</th>\n",
       "      <td>20.690001</td>\n",
       "      <td>21.840000</td>\n",
       "      <td>1.149999</td>\n",
       "    </tr>\n",
       "    <tr>\n",
       "      <th>...</th>\n",
       "      <th>...</th>\n",
       "      <td>...</td>\n",
       "      <td>...</td>\n",
       "      <td>...</td>\n",
       "    </tr>\n",
       "    <tr>\n",
       "      <th rowspan=\"3\" valign=\"top\">2019</th>\n",
       "      <th>10</th>\n",
       "      <td>241.500000</td>\n",
       "      <td>314.920013</td>\n",
       "      <td>73.420013</td>\n",
       "    </tr>\n",
       "    <tr>\n",
       "      <th>11</th>\n",
       "      <td>316.320007</td>\n",
       "      <td>329.940002</td>\n",
       "      <td>13.619995</td>\n",
       "    </tr>\n",
       "    <tr>\n",
       "      <th>12</th>\n",
       "      <td>329.399994</td>\n",
       "      <td>418.329987</td>\n",
       "      <td>88.929993</td>\n",
       "    </tr>\n",
       "    <tr>\n",
       "      <th rowspan=\"2\" valign=\"top\">2020</th>\n",
       "      <th>1</th>\n",
       "      <td>424.500000</td>\n",
       "      <td>650.570007</td>\n",
       "      <td>226.070007</td>\n",
       "    </tr>\n",
       "    <tr>\n",
       "      <th>2</th>\n",
       "      <td>673.690002</td>\n",
       "      <td>780.000000</td>\n",
       "      <td>106.309998</td>\n",
       "    </tr>\n",
       "  </tbody>\n",
       "</table>\n",
       "<p>117 rows × 3 columns</p>\n",
       "</div>"
      ],
      "text/plain": [
       "                  Open       Close  Difference\n",
       "Year Month                                    \n",
       "2010 6       19.000000   23.830000    4.830000\n",
       "     7       25.000000   19.940001   -5.059999\n",
       "     8       20.500000   19.480000   -1.020000\n",
       "     9       19.620001   20.410000    0.789999\n",
       "     10      20.690001   21.840000    1.149999\n",
       "...                ...         ...         ...\n",
       "2019 10     241.500000  314.920013   73.420013\n",
       "     11     316.320007  329.940002   13.619995\n",
       "     12     329.399994  418.329987   88.929993\n",
       "2020 1      424.500000  650.570007  226.070007\n",
       "     2      673.690002  780.000000  106.309998\n",
       "\n",
       "[117 rows x 3 columns]"
      ]
     },
     "execution_count": 85,
     "metadata": {},
     "output_type": "execute_result"
    }
   ],
   "source": [
    "monthly_closing_diff[\"Difference\"] = monthly_closing_diff[\"Close\"] - monthly_closing_diff[\"Open\"]\n",
    "monthly_closing_diff"
   ]
  },
  {
   "cell_type": "code",
   "execution_count": 86,
   "id": "b22c3e00-6772-4f2c-8360-d1bc464f7107",
   "metadata": {},
   "outputs": [],
   "source": [
    "monthly_closing_diff[\"Change %\"] = monthly_closing_diff[\"Difference\"] / monthly_closing_diff[\"Open\"] * 100"
   ]
  },
  {
   "cell_type": "code",
   "execution_count": 87,
   "id": "324414af-668a-4406-8f33-aaac992be92e",
   "metadata": {},
   "outputs": [
    {
     "data": {
      "text/html": [
       "<div>\n",
       "<style scoped>\n",
       "    .dataframe tbody tr th:only-of-type {\n",
       "        vertical-align: middle;\n",
       "    }\n",
       "\n",
       "    .dataframe tbody tr th {\n",
       "        vertical-align: top;\n",
       "    }\n",
       "\n",
       "    .dataframe thead th {\n",
       "        text-align: right;\n",
       "    }\n",
       "</style>\n",
       "<table border=\"1\" class=\"dataframe\">\n",
       "  <thead>\n",
       "    <tr style=\"text-align: right;\">\n",
       "      <th></th>\n",
       "      <th></th>\n",
       "      <th>Open</th>\n",
       "      <th>Close</th>\n",
       "      <th>Difference</th>\n",
       "      <th>Change %</th>\n",
       "    </tr>\n",
       "    <tr>\n",
       "      <th>Year</th>\n",
       "      <th>Month</th>\n",
       "      <th></th>\n",
       "      <th></th>\n",
       "      <th></th>\n",
       "      <th></th>\n",
       "    </tr>\n",
       "  </thead>\n",
       "  <tbody>\n",
       "    <tr>\n",
       "      <th rowspan=\"5\" valign=\"top\">2010</th>\n",
       "      <th>6</th>\n",
       "      <td>19.000000</td>\n",
       "      <td>23.830000</td>\n",
       "      <td>4.830000</td>\n",
       "      <td>25.421053</td>\n",
       "    </tr>\n",
       "    <tr>\n",
       "      <th>7</th>\n",
       "      <td>25.000000</td>\n",
       "      <td>19.940001</td>\n",
       "      <td>-5.059999</td>\n",
       "      <td>-20.239996</td>\n",
       "    </tr>\n",
       "    <tr>\n",
       "      <th>8</th>\n",
       "      <td>20.500000</td>\n",
       "      <td>19.480000</td>\n",
       "      <td>-1.020000</td>\n",
       "      <td>-4.975610</td>\n",
       "    </tr>\n",
       "    <tr>\n",
       "      <th>9</th>\n",
       "      <td>19.620001</td>\n",
       "      <td>20.410000</td>\n",
       "      <td>0.789999</td>\n",
       "      <td>4.026498</td>\n",
       "    </tr>\n",
       "    <tr>\n",
       "      <th>10</th>\n",
       "      <td>20.690001</td>\n",
       "      <td>21.840000</td>\n",
       "      <td>1.149999</td>\n",
       "      <td>5.558236</td>\n",
       "    </tr>\n",
       "    <tr>\n",
       "      <th>...</th>\n",
       "      <th>...</th>\n",
       "      <td>...</td>\n",
       "      <td>...</td>\n",
       "      <td>...</td>\n",
       "      <td>...</td>\n",
       "    </tr>\n",
       "    <tr>\n",
       "      <th rowspan=\"3\" valign=\"top\">2019</th>\n",
       "      <th>10</th>\n",
       "      <td>241.500000</td>\n",
       "      <td>314.920013</td>\n",
       "      <td>73.420013</td>\n",
       "      <td>30.401662</td>\n",
       "    </tr>\n",
       "    <tr>\n",
       "      <th>11</th>\n",
       "      <td>316.320007</td>\n",
       "      <td>329.940002</td>\n",
       "      <td>13.619995</td>\n",
       "      <td>4.305765</td>\n",
       "    </tr>\n",
       "    <tr>\n",
       "      <th>12</th>\n",
       "      <td>329.399994</td>\n",
       "      <td>418.329987</td>\n",
       "      <td>88.929993</td>\n",
       "      <td>26.997570</td>\n",
       "    </tr>\n",
       "    <tr>\n",
       "      <th rowspan=\"2\" valign=\"top\">2020</th>\n",
       "      <th>1</th>\n",
       "      <td>424.500000</td>\n",
       "      <td>650.570007</td>\n",
       "      <td>226.070007</td>\n",
       "      <td>53.255596</td>\n",
       "    </tr>\n",
       "    <tr>\n",
       "      <th>2</th>\n",
       "      <td>673.690002</td>\n",
       "      <td>780.000000</td>\n",
       "      <td>106.309998</td>\n",
       "      <td>15.780255</td>\n",
       "    </tr>\n",
       "  </tbody>\n",
       "</table>\n",
       "<p>117 rows × 4 columns</p>\n",
       "</div>"
      ],
      "text/plain": [
       "                  Open       Close  Difference   Change %\n",
       "Year Month                                               \n",
       "2010 6       19.000000   23.830000    4.830000  25.421053\n",
       "     7       25.000000   19.940001   -5.059999 -20.239996\n",
       "     8       20.500000   19.480000   -1.020000  -4.975610\n",
       "     9       19.620001   20.410000    0.789999   4.026498\n",
       "     10      20.690001   21.840000    1.149999   5.558236\n",
       "...                ...         ...         ...        ...\n",
       "2019 10     241.500000  314.920013   73.420013  30.401662\n",
       "     11     316.320007  329.940002   13.619995   4.305765\n",
       "     12     329.399994  418.329987   88.929993  26.997570\n",
       "2020 1      424.500000  650.570007  226.070007  53.255596\n",
       "     2      673.690002  780.000000  106.309998  15.780255\n",
       "\n",
       "[117 rows x 4 columns]"
      ]
     },
     "execution_count": 87,
     "metadata": {},
     "output_type": "execute_result"
    }
   ],
   "source": [
    "monthly_closing_diff"
   ]
  },
  {
   "cell_type": "markdown",
   "id": "8b2c6443-0e38-46a1-a967-8fa35749c67a",
   "metadata": {},
   "source": [
    "DataFrame contains the starting price of the stock for each month and the last day's closing price for each month. It also includes the difference between the end close and start open and the percentage change in price for that month."
   ]
  },
  {
   "cell_type": "code",
   "execution_count": 89,
   "id": "307b00f9-bce6-4f9a-b5f0-b2f464f0b84d",
   "metadata": {},
   "outputs": [
    {
     "data": {
      "text/plain": [
       "74.602605"
      ]
     },
     "execution_count": 89,
     "metadata": {},
     "output_type": "execute_result"
    }
   ],
   "source": [
    "round(monthly_closing_diff[\"Change %\"].max(), 6)"
   ]
  },
  {
   "cell_type": "code",
   "execution_count": 90,
   "id": "1f3aeac1-783c-4f5a-9caf-4fe50e60e551",
   "metadata": {},
   "outputs": [
    {
     "data": {
      "text/plain": [
       "-25.759688"
      ]
     },
     "execution_count": 90,
     "metadata": {},
     "output_type": "execute_result"
    }
   ],
   "source": [
    "round(monthly_closing_diff[\"Change %\"].min(), 6)"
   ]
  },
  {
   "cell_type": "code",
   "execution_count": 91,
   "id": "be162718-5ccb-4241-8346-f9cd4eee7156",
   "metadata": {},
   "outputs": [
    {
     "data": {
      "text/plain": [
       "3.771064"
      ]
     },
     "execution_count": 91,
     "metadata": {},
     "output_type": "execute_result"
    }
   ],
   "source": [
    "round(monthly_closing_diff[\"Change %\"].mean(), 6)"
   ]
  },
  {
   "cell_type": "markdown",
   "id": "b88cda74-2442-4580-8674-a7b876e94809",
   "metadata": {},
   "source": [
    "The average monthly percentage gain is incredible compared to most other risk asset performances during the timespan."
   ]
  },
  {
   "cell_type": "code",
   "execution_count": 93,
   "id": "5b12ef4b-537b-4afd-a277-eae5ddf64529",
   "metadata": {},
   "outputs": [
    {
     "data": {
      "text/plain": [
       "Open          55.990002\n",
       "Close         97.760002\n",
       "Difference    41.770000\n",
       "Change %      74.602605\n",
       "Name: (2013, 5), dtype: float64"
      ]
     },
     "execution_count": 93,
     "metadata": {},
     "output_type": "execute_result"
    }
   ],
   "source": [
    "monthly_closing_diff.loc[monthly_closing_diff[\"Change %\"].idxmax()]"
   ]
  },
  {
   "cell_type": "markdown",
   "id": "32995655-1de5-4c1d-ba2d-923360ba44b4",
   "metadata": {},
   "source": [
    "Largest increase in stock price for a month by percentage happened in May of 2013"
   ]
  },
  {
   "cell_type": "code",
   "execution_count": 95,
   "id": "603eb852-10f1-49c2-9b6e-b2ac031d7f78",
   "metadata": {},
   "outputs": [
    {
     "data": {
      "text/plain": [
       "Open          35.869999\n",
       "Close         26.629999\n",
       "Difference    -9.240000\n",
       "Change %     -25.759688\n",
       "Name: (2010, 12), dtype: float64"
      ]
     },
     "execution_count": 95,
     "metadata": {},
     "output_type": "execute_result"
    }
   ],
   "source": [
    "monthly_closing_diff.loc[monthly_closing_diff[\"Change %\"].idxmin()]"
   ]
  },
  {
   "cell_type": "markdown",
   "id": "d12b2db4-ed4a-4146-b919-68c3f410a370",
   "metadata": {},
   "source": [
    "Largest decrease in stock price for a month by percentage happend in Decemeber 2010"
   ]
  },
  {
   "cell_type": "code",
   "execution_count": 175,
   "id": "9b432c51-568c-4ecb-8733-0da8d5033500",
   "metadata": {},
   "outputs": [
    {
     "data": {
      "text/plain": [
       "Month\n",
       "1      7.710830\n",
       "2      5.672176\n",
       "3      1.316348\n",
       "4      4.772831\n",
       "5      6.390784\n",
       "6     10.605492\n",
       "7     -3.379804\n",
       "8      1.563416\n",
       "9     -0.138750\n",
       "10     1.513653\n",
       "11     8.150777\n",
       "12     1.191692\n",
       "Name: Change %, dtype: float64"
      ]
     },
     "execution_count": 175,
     "metadata": {},
     "output_type": "execute_result"
    }
   ],
   "source": [
    "monthly_returns = monthly_closing_diff.groupby(\"Month\")[\"Change %\"].mean()\n",
    "monthly_returns"
   ]
  },
  {
   "cell_type": "code",
   "execution_count": 183,
   "id": "192d7f21-d8a1-492f-9bdd-22297ebba818",
   "metadata": {},
   "outputs": [
    {
     "data": {
      "image/png": "[encoded data removed]",
      "text/plain": [
       "<Figure size 1000x600 with 1 Axes>"
      ]
     },
     "metadata": {},
     "output_type": "display_data"
    }
   ],
   "source": [
    "sns.set()\n",
    "sns.set_style(\"white\")\n",
    "plt.figure(figsize=(10, 6))\n",
    "plt.bar(monthly_returns.index, monthly_returns, color=\"#ec1515\")\n",
    "plt.axhline(0, color=\"#000000\", linewidth=1.5)\n",
    "plt.xticks(monthly_returns.index, months, rotation=45)\n",
    "plt.xlabel(\"Month\", fontsize=14, weight=\"bold\", labelpad=15)\n",
    "plt.ylabel(\"Average Return %\", fontsize=14, weight=\"bold\", labelpad=10)\n",
    "plt.title(\"TSLA Historical Monthly Returns (Seasonality)\", fontsize=14, weight=\"bold\")\n",
    "sns.despine()\n",
    "plt.tight_layout(pad=1)\n",
    "plt.show()"
   ]
  },
  {
   "cell_type": "code",
   "execution_count": 97,
   "id": "da035c4b-a4bf-4eb1-88ea-8ffadb2e2ce8",
   "metadata": {},
   "outputs": [
    {
     "data": {
      "text/html": [
       "<div>\n",
       "<style scoped>\n",
       "    .dataframe tbody tr th:only-of-type {\n",
       "        vertical-align: middle;\n",
       "    }\n",
       "\n",
       "    .dataframe tbody tr th {\n",
       "        vertical-align: top;\n",
       "    }\n",
       "\n",
       "    .dataframe thead th {\n",
       "        text-align: right;\n",
       "    }\n",
       "</style>\n",
       "<table border=\"1\" class=\"dataframe\">\n",
       "  <thead>\n",
       "    <tr style=\"text-align: right;\">\n",
       "      <th></th>\n",
       "      <th>Year</th>\n",
       "      <th>Month</th>\n",
       "      <th>Open</th>\n",
       "      <th>Close</th>\n",
       "      <th>Difference</th>\n",
       "      <th>Change %</th>\n",
       "    </tr>\n",
       "  </thead>\n",
       "  <tbody>\n",
       "    <tr>\n",
       "      <th>0</th>\n",
       "      <td>2010</td>\n",
       "      <td>6</td>\n",
       "      <td>19.000000</td>\n",
       "      <td>23.830000</td>\n",
       "      <td>4.830000</td>\n",
       "      <td>25.421053</td>\n",
       "    </tr>\n",
       "    <tr>\n",
       "      <th>1</th>\n",
       "      <td>2010</td>\n",
       "      <td>7</td>\n",
       "      <td>25.000000</td>\n",
       "      <td>19.940001</td>\n",
       "      <td>-5.059999</td>\n",
       "      <td>-20.239996</td>\n",
       "    </tr>\n",
       "    <tr>\n",
       "      <th>2</th>\n",
       "      <td>2010</td>\n",
       "      <td>8</td>\n",
       "      <td>20.500000</td>\n",
       "      <td>19.480000</td>\n",
       "      <td>-1.020000</td>\n",
       "      <td>-4.975610</td>\n",
       "    </tr>\n",
       "    <tr>\n",
       "      <th>3</th>\n",
       "      <td>2010</td>\n",
       "      <td>9</td>\n",
       "      <td>19.620001</td>\n",
       "      <td>20.410000</td>\n",
       "      <td>0.789999</td>\n",
       "      <td>4.026498</td>\n",
       "    </tr>\n",
       "    <tr>\n",
       "      <th>4</th>\n",
       "      <td>2010</td>\n",
       "      <td>10</td>\n",
       "      <td>20.690001</td>\n",
       "      <td>21.840000</td>\n",
       "      <td>1.149999</td>\n",
       "      <td>5.558236</td>\n",
       "    </tr>\n",
       "    <tr>\n",
       "      <th>...</th>\n",
       "      <td>...</td>\n",
       "      <td>...</td>\n",
       "      <td>...</td>\n",
       "      <td>...</td>\n",
       "      <td>...</td>\n",
       "      <td>...</td>\n",
       "    </tr>\n",
       "    <tr>\n",
       "      <th>112</th>\n",
       "      <td>2019</td>\n",
       "      <td>10</td>\n",
       "      <td>241.500000</td>\n",
       "      <td>314.920013</td>\n",
       "      <td>73.420013</td>\n",
       "      <td>30.401662</td>\n",
       "    </tr>\n",
       "    <tr>\n",
       "      <th>113</th>\n",
       "      <td>2019</td>\n",
       "      <td>11</td>\n",
       "      <td>316.320007</td>\n",
       "      <td>329.940002</td>\n",
       "      <td>13.619995</td>\n",
       "      <td>4.305765</td>\n",
       "    </tr>\n",
       "    <tr>\n",
       "      <th>114</th>\n",
       "      <td>2019</td>\n",
       "      <td>12</td>\n",
       "      <td>329.399994</td>\n",
       "      <td>418.329987</td>\n",
       "      <td>88.929993</td>\n",
       "      <td>26.997570</td>\n",
       "    </tr>\n",
       "    <tr>\n",
       "      <th>115</th>\n",
       "      <td>2020</td>\n",
       "      <td>1</td>\n",
       "      <td>424.500000</td>\n",
       "      <td>650.570007</td>\n",
       "      <td>226.070007</td>\n",
       "      <td>53.255596</td>\n",
       "    </tr>\n",
       "    <tr>\n",
       "      <th>116</th>\n",
       "      <td>2020</td>\n",
       "      <td>2</td>\n",
       "      <td>673.690002</td>\n",
       "      <td>780.000000</td>\n",
       "      <td>106.309998</td>\n",
       "      <td>15.780255</td>\n",
       "    </tr>\n",
       "  </tbody>\n",
       "</table>\n",
       "<p>117 rows × 6 columns</p>\n",
       "</div>"
      ],
      "text/plain": [
       "     Year  Month        Open       Close  Difference   Change %\n",
       "0    2010      6   19.000000   23.830000    4.830000  25.421053\n",
       "1    2010      7   25.000000   19.940001   -5.059999 -20.239996\n",
       "2    2010      8   20.500000   19.480000   -1.020000  -4.975610\n",
       "3    2010      9   19.620001   20.410000    0.789999   4.026498\n",
       "4    2010     10   20.690001   21.840000    1.149999   5.558236\n",
       "..    ...    ...         ...         ...         ...        ...\n",
       "112  2019     10  241.500000  314.920013   73.420013  30.401662\n",
       "113  2019     11  316.320007  329.940002   13.619995   4.305765\n",
       "114  2019     12  329.399994  418.329987   88.929993  26.997570\n",
       "115  2020      1  424.500000  650.570007  226.070007  53.255596\n",
       "116  2020      2  673.690002  780.000000  106.309998  15.780255\n",
       "\n",
       "[117 rows x 6 columns]"
      ]
     },
     "execution_count": 97,
     "metadata": {},
     "output_type": "execute_result"
    }
   ],
   "source": [
    "monthly_closing_diff.reset_index(inplace=True)\n",
    "monthly_closing_diff"
   ]
  },
  {
   "cell_type": "markdown",
   "id": "a1581378-2edd-4e85-8849-e012d4b084db",
   "metadata": {},
   "source": [
    "Can now concatenate Year and Month as a uniform x-axis for visualization."
   ]
  },
  {
   "cell_type": "code",
   "execution_count": 99,
   "id": "4df6c78b-80a0-49e1-bd39-bd634ff8bda4",
   "metadata": {},
   "outputs": [
    {
     "data": {
      "text/html": [
       "<div>\n",
       "<style scoped>\n",
       "    .dataframe tbody tr th:only-of-type {\n",
       "        vertical-align: middle;\n",
       "    }\n",
       "\n",
       "    .dataframe tbody tr th {\n",
       "        vertical-align: top;\n",
       "    }\n",
       "\n",
       "    .dataframe thead th {\n",
       "        text-align: right;\n",
       "    }\n",
       "</style>\n",
       "<table border=\"1\" class=\"dataframe\">\n",
       "  <thead>\n",
       "    <tr style=\"text-align: right;\">\n",
       "      <th></th>\n",
       "      <th>Year</th>\n",
       "      <th>Month</th>\n",
       "      <th>Open</th>\n",
       "      <th>Close</th>\n",
       "      <th>Difference</th>\n",
       "      <th>Change %</th>\n",
       "      <th>Date</th>\n",
       "    </tr>\n",
       "  </thead>\n",
       "  <tbody>\n",
       "    <tr>\n",
       "      <th>0</th>\n",
       "      <td>2010</td>\n",
       "      <td>6</td>\n",
       "      <td>19.000000</td>\n",
       "      <td>23.830000</td>\n",
       "      <td>4.830000</td>\n",
       "      <td>25.421053</td>\n",
       "      <td>2010-6</td>\n",
       "    </tr>\n",
       "    <tr>\n",
       "      <th>1</th>\n",
       "      <td>2010</td>\n",
       "      <td>7</td>\n",
       "      <td>25.000000</td>\n",
       "      <td>19.940001</td>\n",
       "      <td>-5.059999</td>\n",
       "      <td>-20.239996</td>\n",
       "      <td>2010-7</td>\n",
       "    </tr>\n",
       "    <tr>\n",
       "      <th>2</th>\n",
       "      <td>2010</td>\n",
       "      <td>8</td>\n",
       "      <td>20.500000</td>\n",
       "      <td>19.480000</td>\n",
       "      <td>-1.020000</td>\n",
       "      <td>-4.975610</td>\n",
       "      <td>2010-8</td>\n",
       "    </tr>\n",
       "    <tr>\n",
       "      <th>3</th>\n",
       "      <td>2010</td>\n",
       "      <td>9</td>\n",
       "      <td>19.620001</td>\n",
       "      <td>20.410000</td>\n",
       "      <td>0.789999</td>\n",
       "      <td>4.026498</td>\n",
       "      <td>2010-9</td>\n",
       "    </tr>\n",
       "    <tr>\n",
       "      <th>4</th>\n",
       "      <td>2010</td>\n",
       "      <td>10</td>\n",
       "      <td>20.690001</td>\n",
       "      <td>21.840000</td>\n",
       "      <td>1.149999</td>\n",
       "      <td>5.558236</td>\n",
       "      <td>2010-10</td>\n",
       "    </tr>\n",
       "    <tr>\n",
       "      <th>...</th>\n",
       "      <td>...</td>\n",
       "      <td>...</td>\n",
       "      <td>...</td>\n",
       "      <td>...</td>\n",
       "      <td>...</td>\n",
       "      <td>...</td>\n",
       "      <td>...</td>\n",
       "    </tr>\n",
       "    <tr>\n",
       "      <th>112</th>\n",
       "      <td>2019</td>\n",
       "      <td>10</td>\n",
       "      <td>241.500000</td>\n",
       "      <td>314.920013</td>\n",
       "      <td>73.420013</td>\n",
       "      <td>30.401662</td>\n",
       "      <td>2019-10</td>\n",
       "    </tr>\n",
       "    <tr>\n",
       "      <th>113</th>\n",
       "      <td>2019</td>\n",
       "      <td>11</td>\n",
       "      <td>316.320007</td>\n",
       "      <td>329.940002</td>\n",
       "      <td>13.619995</td>\n",
       "      <td>4.305765</td>\n",
       "      <td>2019-11</td>\n",
       "    </tr>\n",
       "    <tr>\n",
       "      <th>114</th>\n",
       "      <td>2019</td>\n",
       "      <td>12</td>\n",
       "      <td>329.399994</td>\n",
       "      <td>418.329987</td>\n",
       "      <td>88.929993</td>\n",
       "      <td>26.997570</td>\n",
       "      <td>2019-12</td>\n",
       "    </tr>\n",
       "    <tr>\n",
       "      <th>115</th>\n",
       "      <td>2020</td>\n",
       "      <td>1</td>\n",
       "      <td>424.500000</td>\n",
       "      <td>650.570007</td>\n",
       "      <td>226.070007</td>\n",
       "      <td>53.255596</td>\n",
       "      <td>2020-1</td>\n",
       "    </tr>\n",
       "    <tr>\n",
       "      <th>116</th>\n",
       "      <td>2020</td>\n",
       "      <td>2</td>\n",
       "      <td>673.690002</td>\n",
       "      <td>780.000000</td>\n",
       "      <td>106.309998</td>\n",
       "      <td>15.780255</td>\n",
       "      <td>2020-2</td>\n",
       "    </tr>\n",
       "  </tbody>\n",
       "</table>\n",
       "<p>117 rows × 7 columns</p>\n",
       "</div>"
      ],
      "text/plain": [
       "     Year  Month        Open       Close  Difference   Change %     Date\n",
       "0    2010      6   19.000000   23.830000    4.830000  25.421053   2010-6\n",
       "1    2010      7   25.000000   19.940001   -5.059999 -20.239996   2010-7\n",
       "2    2010      8   20.500000   19.480000   -1.020000  -4.975610   2010-8\n",
       "3    2010      9   19.620001   20.410000    0.789999   4.026498   2010-9\n",
       "4    2010     10   20.690001   21.840000    1.149999   5.558236  2010-10\n",
       "..    ...    ...         ...         ...         ...        ...      ...\n",
       "112  2019     10  241.500000  314.920013   73.420013  30.401662  2019-10\n",
       "113  2019     11  316.320007  329.940002   13.619995   4.305765  2019-11\n",
       "114  2019     12  329.399994  418.329987   88.929993  26.997570  2019-12\n",
       "115  2020      1  424.500000  650.570007  226.070007  53.255596   2020-1\n",
       "116  2020      2  673.690002  780.000000  106.309998  15.780255   2020-2\n",
       "\n",
       "[117 rows x 7 columns]"
      ]
     },
     "execution_count": 99,
     "metadata": {},
     "output_type": "execute_result"
    }
   ],
   "source": [
    "monthly_closing_diff[\"Date\"] = monthly_closing_diff[\"Year\"].astype(str) + \"-\" + monthly_closing_diff[\"Month\"].astype(str)\n",
    "monthly_closing_diff"
   ]
  },
  {
   "cell_type": "code",
   "execution_count": 160,
   "id": "f24c1bad-9c1e-4925-9413-7640ef6b4fff",
   "metadata": {},
   "outputs": [
    {
     "data": {
      "image/png": "[encoded data removed]",
      "text/plain": [
       "<Figure size 1000x600 with 1 Axes>"
      ]
     },
     "metadata": {},
     "output_type": "display_data"
    }
   ],
   "source": [
    "sns.set()\n",
    "sns.set_style(\"white\")\n",
    "plt.figure(figsize=(10, 6))\n",
    "plt.bar(monthly_closing_diff[\"Date\"],  monthly_closing_diff[\"Change %\"], color=\"#ec1515\")\n",
    "plt.axhline(0, color=\"#000000\", linewidth=1.5)\n",
    "plt.xticks(\"\")\n",
    "plt.yticks(range(-30, 81, 10))\n",
    "plt.xlabel(\"Months\", fontsize=14, weight=\"bold\")\n",
    "plt.ylabel(\"Change %\", fontsize=14, weight=\"bold\", labelpad=10)\n",
    "plt.title(\"TSLA Historical Monthly Returns\", fontsize=14, weight=\"bold\")\n",
    "sns.despine()\n",
    "plt.tight_layout(pad=1)\n",
    "plt.show()"
   ]
  },
  {
   "cell_type": "markdown",
   "id": "bc8c971c-b697-4e8b-aa28-bcae751e6ba1",
   "metadata": {},
   "source": [
    "## Conclusion"
   ]
  },
  {
   "cell_type": "markdown",
   "id": "45d6d13b-73e3-4bee-9769-8e451b0fad7b",
   "metadata": {},
   "source": [
    "Based on my analysis of the TSLA stock data, I came up with multiple insights and findings about its past performance."
   ]
  },
  {
   "cell_type": "markdown",
   "id": "5669ef65-18c5-48d1-aa33-7d70ba48044e",
   "metadata": {},
   "source": [
    "### Insight # 1: High Volatility"
   ]
  },
  {
   "cell_type": "markdown",
   "id": "f46af8bf-ff4f-4690-bfa5-8d5cc3c727a4",
   "metadata": {},
   "source": [
    "I know that to this day, Tesla is one of the more volatile stocks out there, but while it was a smaller-cap stock, it was even more volatile than it is today. There were days when the stock was down more than 15% and days when it was up almost 25%. There were also multiple months when the price was up over 50% and months when it was down over 20%. So, investors holding significant positions in this stock saw drastic fluctuations in their portfolios over the timespan and hopefully calculated their risk accordingly."
   ]
  },
  {
   "cell_type": "markdown",
   "id": "5ad4ca64-292f-43ae-9434-e9ef0d44ccfc",
   "metadata": {},
   "source": [
    "### Insight #2: Major Returns"
   ]
  },
  {
   "cell_type": "markdown",
   "id": "1ef96f68-bd7f-4e48-8d56-ed8f02b50ebe",
   "metadata": {},
   "source": [
    "I won't go into too much detail here because the information is pretty easy to access, but early investors of Tesla got rewarded big time. The time span for this data is: June 29th, 2010, to February 3rd, 2020, and in that time, the stock increased by 4,005%! While the stock was very volatile, the returns to the upside were enormous, and any bear market was quickly ended by investors entering or entering the market. "
   ]
  },
  {
   "cell_type": "markdown",
   "id": "8275f407-8261-4050-acd1-9e6e462540ed",
   "metadata": {},
   "source": [
    "### Insight #3: Price Seasonality"
   ]
  },
  {
   "cell_type": "markdown",
   "id": "ccbe4c96-7f05-48c9-981a-40835f5c9d4a",
   "metadata": {},
   "source": [
    "Like many other stocks and the market in general TSLA saw clear price seasonality across the differnent months. July and September were the only months that the stock was down on average. September was down less than 1%, and July was down just over 3% on average each year. All the other months were green, with June, on average, creating 10% gains for the stock. Other big gaining months were January and November, which saw an average of 8% gains each year. So with this data spanning over 10 years, there is a trend here that traders could've taken advantage of to buy in at better prices and maybe even try to sell positions at higher prices."
   ]
  },
  {
   "cell_type": "markdown",
   "id": "0f1d08f6-1aa5-4d44-a444-b8b67414d629",
   "metadata": {},
   "source": [
    "### Insight #4: Volume Seasonality"
   ]
  },
  {
   "cell_type": "markdown",
   "id": "cc34e311-d9c2-4391-a7ad-47dca1cb7f2b",
   "metadata": {},
   "source": [
    "Very similar to price, we see clear seasonality in trading volume as well in the timespan. While the outliers aren't too severe, it's clear that volume seemed to peak in May and follow a downtrend until September, when it bottomed. October's average then saw a spike and then a downtrend for the last two months of the year. The average volume spikes again in January and then spirals down and bottoms in March, followed by an increase to the May peak. This information would also have been really important for traders and helping them navigate this volatile stock."
   ]
  },
  {
   "cell_type": "markdown",
   "id": "504209ae-4194-40c7-ac83-de6efc7c2b87",
   "metadata": {},
   "source": [
    "### Insight #5: 2013 and 2020 Breakouts"
   ]
  },
  {
   "cell_type": "markdown",
   "id": "456f3e83-f42c-4730-91b7-15f99945681b",
   "metadata": {},
   "source": [
    "2013 sees a major price spike to the upside and a massive increase in volatility. Cleary major advancements at Tesla happened around this time, and investor sentiment became drastically more positive. We also saw the same thing happen in 2020, and while the data started to get cut off during this move, clearly, big news drove this impulsive move. I think this clearly shows Tesla's volatility and maybe even insight into what moves this stock. Going back in time to see what drove these moves could even help future investors better understand how the stock might fluctuate in the future."
   ]
  }
 ],
 "metadata": {
  "kernelspec": {
   "display_name": "Python [conda env:base] *",
   "language": "python",
   "name": "conda-base-py"
  },
  "language_info": {
   "codemirror_mode": {
    "name": "ipython",
    "version": 3
   },
   "file_extension": ".py",
   "mimetype": "text/x-python",
   "name": "python",
   "nbconvert_exporter": "python",
   "pygments_lexer": "ipython3",
   "version": "3.12.7"
  }
 },
 "nbformat": 4,
 "nbformat_minor": 5
}
